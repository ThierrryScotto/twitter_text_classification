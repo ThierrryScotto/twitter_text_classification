{
  "cells": [
    {
      "cell_type": "markdown",
      "metadata": {
        "id": "view-in-github",
        "colab_type": "text"
      },
      "source": [
        "<a href=\"https://colab.research.google.com/github/ThierrryScotto/twitter_text_classification/blob/main/Twitter_Text_Classification_with_spaCy.ipynb\" target=\"_parent\"><img src=\"https://colab.research.google.com/assets/colab-badge.svg\" alt=\"Open In Colab\"/></a>"
      ]
    },
    {
      "cell_type": "code",
      "execution_count": 1,
      "metadata": {
        "id": "EJJHfiEdwcqG"
      },
      "outputs": [],
      "source": [
        "# !pip uninstall spacy"
      ]
    },
    {
      "cell_type": "code",
      "execution_count": 2,
      "metadata": {
        "id": "o5e3Tlewog15",
        "colab": {
          "base_uri": "https://localhost:8080/"
        },
        "outputId": "5b660e8d-1770-4678-a752-59dabc0125f0"
      },
      "outputs": [
        {
          "output_type": "stream",
          "name": "stdout",
          "text": [
            "\u001b[K     |████████████████████████████████| 10.4 MB 4.4 MB/s \n",
            "\u001b[K     |████████████████████████████████| 2.2 MB 46.3 MB/s \n",
            "\u001b[?25h"
          ]
        }
      ],
      "source": [
        "# !pip install spacy --upgrade\n",
        "!pip install -q spacy==2.2.3"
      ]
    },
    {
      "cell_type": "code",
      "execution_count": 3,
      "metadata": {
        "colab": {
          "base_uri": "https://localhost:8080/",
          "height": 35
        },
        "id": "jOZwf0-cqhKs",
        "outputId": "ff144494-a999-43c5-e6b7-5aa6769dbfcb"
      },
      "outputs": [
        {
          "output_type": "execute_result",
          "data": {
            "application/vnd.google.colaboratory.intrinsic+json": {
              "type": "string"
            },
            "text/plain": [
              "'2.2.3'"
            ]
          },
          "metadata": {},
          "execution_count": 3
        }
      ],
      "source": [
        "import spacy\n",
        "spacy.__version__"
      ]
    },
    {
      "cell_type": "code",
      "execution_count": 4,
      "metadata": {
        "colab": {
          "base_uri": "https://localhost:8080/"
        },
        "id": "o1E33iCPpvRW",
        "outputId": "a2fa5b63-058b-4287-c82a-461a92fd2966"
      },
      "outputs": [
        {
          "output_type": "stream",
          "name": "stdout",
          "text": [
            "Collecting pt_core_news_sm==2.2.5\n",
            "  Downloading https://github.com/explosion/spacy-models/releases/download/pt_core_news_sm-2.2.5/pt_core_news_sm-2.2.5.tar.gz (21.2 MB)\n",
            "\u001b[K     |████████████████████████████████| 21.2 MB 1.3 MB/s \n",
            "\u001b[?25hRequirement already satisfied: spacy>=2.2.2 in /usr/local/lib/python3.7/dist-packages (from pt_core_news_sm==2.2.5) (2.2.3)\n",
            "Requirement already satisfied: cymem<2.1.0,>=2.0.2 in /usr/local/lib/python3.7/dist-packages (from spacy>=2.2.2->pt_core_news_sm==2.2.5) (2.0.6)\n",
            "Requirement already satisfied: wasabi<1.1.0,>=0.4.0 in /usr/local/lib/python3.7/dist-packages (from spacy>=2.2.2->pt_core_news_sm==2.2.5) (0.9.0)\n",
            "Requirement already satisfied: preshed<3.1.0,>=3.0.2 in /usr/local/lib/python3.7/dist-packages (from spacy>=2.2.2->pt_core_news_sm==2.2.5) (3.0.6)\n",
            "Requirement already satisfied: srsly<1.1.0,>=0.1.0 in /usr/local/lib/python3.7/dist-packages (from spacy>=2.2.2->pt_core_news_sm==2.2.5) (1.0.5)\n",
            "Requirement already satisfied: setuptools in /usr/local/lib/python3.7/dist-packages (from spacy>=2.2.2->pt_core_news_sm==2.2.5) (57.4.0)\n",
            "Requirement already satisfied: plac<1.2.0,>=0.9.6 in /usr/local/lib/python3.7/dist-packages (from spacy>=2.2.2->pt_core_news_sm==2.2.5) (1.1.3)\n",
            "Requirement already satisfied: catalogue<1.1.0,>=0.0.7 in /usr/local/lib/python3.7/dist-packages (from spacy>=2.2.2->pt_core_news_sm==2.2.5) (1.0.0)\n",
            "Requirement already satisfied: requests<3.0.0,>=2.13.0 in /usr/local/lib/python3.7/dist-packages (from spacy>=2.2.2->pt_core_news_sm==2.2.5) (2.23.0)\n",
            "Requirement already satisfied: numpy>=1.15.0 in /usr/local/lib/python3.7/dist-packages (from spacy>=2.2.2->pt_core_news_sm==2.2.5) (1.21.5)\n",
            "Requirement already satisfied: blis<0.5.0,>=0.4.0 in /usr/local/lib/python3.7/dist-packages (from spacy>=2.2.2->pt_core_news_sm==2.2.5) (0.4.1)\n",
            "Requirement already satisfied: murmurhash<1.1.0,>=0.28.0 in /usr/local/lib/python3.7/dist-packages (from spacy>=2.2.2->pt_core_news_sm==2.2.5) (1.0.6)\n",
            "Requirement already satisfied: thinc<7.4.0,>=7.3.0 in /usr/local/lib/python3.7/dist-packages (from spacy>=2.2.2->pt_core_news_sm==2.2.5) (7.3.1)\n",
            "Requirement already satisfied: importlib-metadata>=0.20 in /usr/local/lib/python3.7/dist-packages (from catalogue<1.1.0,>=0.0.7->spacy>=2.2.2->pt_core_news_sm==2.2.5) (4.11.1)\n",
            "Requirement already satisfied: zipp>=0.5 in /usr/local/lib/python3.7/dist-packages (from importlib-metadata>=0.20->catalogue<1.1.0,>=0.0.7->spacy>=2.2.2->pt_core_news_sm==2.2.5) (3.7.0)\n",
            "Requirement already satisfied: typing-extensions>=3.6.4 in /usr/local/lib/python3.7/dist-packages (from importlib-metadata>=0.20->catalogue<1.1.0,>=0.0.7->spacy>=2.2.2->pt_core_news_sm==2.2.5) (3.10.0.2)\n",
            "Requirement already satisfied: urllib3!=1.25.0,!=1.25.1,<1.26,>=1.21.1 in /usr/local/lib/python3.7/dist-packages (from requests<3.0.0,>=2.13.0->spacy>=2.2.2->pt_core_news_sm==2.2.5) (1.24.3)\n",
            "Requirement already satisfied: certifi>=2017.4.17 in /usr/local/lib/python3.7/dist-packages (from requests<3.0.0,>=2.13.0->spacy>=2.2.2->pt_core_news_sm==2.2.5) (2021.10.8)\n",
            "Requirement already satisfied: chardet<4,>=3.0.2 in /usr/local/lib/python3.7/dist-packages (from requests<3.0.0,>=2.13.0->spacy>=2.2.2->pt_core_news_sm==2.2.5) (3.0.4)\n",
            "Requirement already satisfied: idna<3,>=2.5 in /usr/local/lib/python3.7/dist-packages (from requests<3.0.0,>=2.13.0->spacy>=2.2.2->pt_core_news_sm==2.2.5) (2.10)\n",
            "Requirement already satisfied: tqdm<5.0.0,>=4.10.0 in /usr/local/lib/python3.7/dist-packages (from thinc<7.4.0,>=7.3.0->spacy>=2.2.2->pt_core_news_sm==2.2.5) (4.62.3)\n",
            "Building wheels for collected packages: pt-core-news-sm\n",
            "  Building wheel for pt-core-news-sm (setup.py) ... \u001b[?25l\u001b[?25hdone\n",
            "  Created wheel for pt-core-news-sm: filename=pt_core_news_sm-2.2.5-py3-none-any.whl size=21186281 sha256=73adb70ec0c0cb79cba3918d587d5cf7260487b28f1df7ea2ae0336d56bffcf5\n",
            "  Stored in directory: /tmp/pip-ephem-wheel-cache-6dkdr5jm/wheels/c3/f9/0c/5c014a36941a00f5df5fc0756cb961d7c457a978e697a6ce3b\n",
            "Successfully built pt-core-news-sm\n",
            "Installing collected packages: pt-core-news-sm\n",
            "Successfully installed pt-core-news-sm-2.2.5\n",
            "\u001b[38;5;2m✔ Download and installation successful\u001b[0m\n",
            "You can now load the model via spacy.load('pt_core_news_sm')\n",
            "\u001b[38;5;2m✔ Linking successful\u001b[0m\n",
            "/usr/local/lib/python3.7/dist-packages/pt_core_news_sm -->\n",
            "/usr/local/lib/python3.7/dist-packages/spacy/data/pt\n",
            "You can now load the model via spacy.load('pt')\n"
          ]
        }
      ],
      "source": [
        "!python3 -m spacy download pt"
      ]
    },
    {
      "cell_type": "code",
      "execution_count": 5,
      "metadata": {
        "id": "gJ7njojcp17P"
      },
      "outputs": [],
      "source": [
        "import pandas as pd\n",
        "import string\n",
        "import random\n",
        "import seaborn as sns\n",
        "import numpy as np"
      ]
    },
    {
      "cell_type": "markdown",
      "metadata": {
        "id": "060Yk0LBq7rf"
      },
      "source": [
        "# Etapa 2: Carregamento das bases de dados\n",
        "\n",
        "- Link Kaggle: https://www.kaggle.com/augustop/portuguese-tweets-for-sentiment-analysis#TweetsNeutralHash.csv"
      ]
    },
    {
      "cell_type": "code",
      "execution_count": 6,
      "metadata": {
        "id": "RSTMZ22Yq7S5"
      },
      "outputs": [],
      "source": [
        "base_dados = pd.read_csv('/content/base_treinamento.txt', encoding='utf-8')"
      ]
    },
    {
      "cell_type": "code",
      "execution_count": 7,
      "metadata": {
        "colab": {
          "base_uri": "https://localhost:8080/"
        },
        "id": "UO_Yaoy0qGE-",
        "outputId": "df741429-d806-4e5a-e7ce-626574075ff0"
      },
      "outputs": [
        {
          "output_type": "execute_result",
          "data": {
            "text/plain": [
              "(196, 2)"
            ]
          },
          "metadata": {},
          "execution_count": 7
        }
      ],
      "source": [
        "base_dados.shape"
      ]
    },
    {
      "cell_type": "code",
      "execution_count": 8,
      "metadata": {
        "colab": {
          "base_uri": "https://localhost:8080/",
          "height": 423
        },
        "id": "YJnwqZdTseTO",
        "outputId": "1174aab2-fb78-4b0e-bc21-904430a766c3"
      },
      "outputs": [
        {
          "output_type": "execute_result",
          "data": {
            "text/html": [
              "\n",
              "  <div id=\"df-81f16917-04c8-4790-a65c-6d5990062e2c\">\n",
              "    <div class=\"colab-df-container\">\n",
              "      <div>\n",
              "<style scoped>\n",
              "    .dataframe tbody tr th:only-of-type {\n",
              "        vertical-align: middle;\n",
              "    }\n",
              "\n",
              "    .dataframe tbody tr th {\n",
              "        vertical-align: top;\n",
              "    }\n",
              "\n",
              "    .dataframe thead th {\n",
              "        text-align: right;\n",
              "    }\n",
              "</style>\n",
              "<table border=\"1\" class=\"dataframe\">\n",
              "  <thead>\n",
              "    <tr style=\"text-align: right;\">\n",
              "      <th></th>\n",
              "      <th>texto</th>\n",
              "      <th>emocao</th>\n",
              "    </tr>\n",
              "  </thead>\n",
              "  <tbody>\n",
              "    <tr>\n",
              "      <th>0</th>\n",
              "      <td>este trabalho é agradável</td>\n",
              "      <td>alegria</td>\n",
              "    </tr>\n",
              "    <tr>\n",
              "      <th>1</th>\n",
              "      <td>gosto de ficar no seu aconchego</td>\n",
              "      <td>alegria</td>\n",
              "    </tr>\n",
              "    <tr>\n",
              "      <th>2</th>\n",
              "      <td>fiz a adesão ao curso hoje</td>\n",
              "      <td>alegria</td>\n",
              "    </tr>\n",
              "    <tr>\n",
              "      <th>3</th>\n",
              "      <td>eu sou admirada por muitos</td>\n",
              "      <td>alegria</td>\n",
              "    </tr>\n",
              "    <tr>\n",
              "      <th>4</th>\n",
              "      <td>adoro como você</td>\n",
              "      <td>alegria</td>\n",
              "    </tr>\n",
              "    <tr>\n",
              "      <th>...</th>\n",
              "      <td>...</td>\n",
              "      <td>...</td>\n",
              "    </tr>\n",
              "    <tr>\n",
              "      <th>186</th>\n",
              "      <td>a noite e muito perigosa</td>\n",
              "      <td>medo</td>\n",
              "    </tr>\n",
              "    <tr>\n",
              "      <th>187</th>\n",
              "      <td>estou estremecendo com essa casa</td>\n",
              "      <td>medo</td>\n",
              "    </tr>\n",
              "    <tr>\n",
              "      <th>188</th>\n",
              "      <td>olha aquela criatura se movendo monstruosamente</td>\n",
              "      <td>medo</td>\n",
              "    </tr>\n",
              "    <tr>\n",
              "      <th>189</th>\n",
              "      <td>não aguento este suspense</td>\n",
              "      <td>medo</td>\n",
              "    </tr>\n",
              "    <tr>\n",
              "      <th>190</th>\n",
              "      <td>afugente os cães</td>\n",
              "      <td>medo</td>\n",
              "    </tr>\n",
              "  </tbody>\n",
              "</table>\n",
              "<p>191 rows × 2 columns</p>\n",
              "</div>\n",
              "      <button class=\"colab-df-convert\" onclick=\"convertToInteractive('df-81f16917-04c8-4790-a65c-6d5990062e2c')\"\n",
              "              title=\"Convert this dataframe to an interactive table.\"\n",
              "              style=\"display:none;\">\n",
              "        \n",
              "  <svg xmlns=\"http://www.w3.org/2000/svg\" height=\"24px\"viewBox=\"0 0 24 24\"\n",
              "       width=\"24px\">\n",
              "    <path d=\"M0 0h24v24H0V0z\" fill=\"none\"/>\n",
              "    <path d=\"M18.56 5.44l.94 2.06.94-2.06 2.06-.94-2.06-.94-.94-2.06-.94 2.06-2.06.94zm-11 1L8.5 8.5l.94-2.06 2.06-.94-2.06-.94L8.5 2.5l-.94 2.06-2.06.94zm10 10l.94 2.06.94-2.06 2.06-.94-2.06-.94-.94-2.06-.94 2.06-2.06.94z\"/><path d=\"M17.41 7.96l-1.37-1.37c-.4-.4-.92-.59-1.43-.59-.52 0-1.04.2-1.43.59L10.3 9.45l-7.72 7.72c-.78.78-.78 2.05 0 2.83L4 21.41c.39.39.9.59 1.41.59.51 0 1.02-.2 1.41-.59l7.78-7.78 2.81-2.81c.8-.78.8-2.07 0-2.86zM5.41 20L4 18.59l7.72-7.72 1.47 1.35L5.41 20z\"/>\n",
              "  </svg>\n",
              "      </button>\n",
              "      \n",
              "  <style>\n",
              "    .colab-df-container {\n",
              "      display:flex;\n",
              "      flex-wrap:wrap;\n",
              "      gap: 12px;\n",
              "    }\n",
              "\n",
              "    .colab-df-convert {\n",
              "      background-color: #E8F0FE;\n",
              "      border: none;\n",
              "      border-radius: 50%;\n",
              "      cursor: pointer;\n",
              "      display: none;\n",
              "      fill: #1967D2;\n",
              "      height: 32px;\n",
              "      padding: 0 0 0 0;\n",
              "      width: 32px;\n",
              "    }\n",
              "\n",
              "    .colab-df-convert:hover {\n",
              "      background-color: #E2EBFA;\n",
              "      box-shadow: 0px 1px 2px rgba(60, 64, 67, 0.3), 0px 1px 3px 1px rgba(60, 64, 67, 0.15);\n",
              "      fill: #174EA6;\n",
              "    }\n",
              "\n",
              "    [theme=dark] .colab-df-convert {\n",
              "      background-color: #3B4455;\n",
              "      fill: #D2E3FC;\n",
              "    }\n",
              "\n",
              "    [theme=dark] .colab-df-convert:hover {\n",
              "      background-color: #434B5C;\n",
              "      box-shadow: 0px 1px 3px 1px rgba(0, 0, 0, 0.15);\n",
              "      filter: drop-shadow(0px 1px 2px rgba(0, 0, 0, 0.3));\n",
              "      fill: #FFFFFF;\n",
              "    }\n",
              "  </style>\n",
              "\n",
              "      <script>\n",
              "        const buttonEl =\n",
              "          document.querySelector('#df-81f16917-04c8-4790-a65c-6d5990062e2c button.colab-df-convert');\n",
              "        buttonEl.style.display =\n",
              "          google.colab.kernel.accessAllowed ? 'block' : 'none';\n",
              "\n",
              "        async function convertToInteractive(key) {\n",
              "          const element = document.querySelector('#df-81f16917-04c8-4790-a65c-6d5990062e2c');\n",
              "          const dataTable =\n",
              "            await google.colab.kernel.invokeFunction('convertToInteractive',\n",
              "                                                     [key], {});\n",
              "          if (!dataTable) return;\n",
              "\n",
              "          const docLinkHtml = 'Like what you see? Visit the ' +\n",
              "            '<a target=\"_blank\" href=https://colab.research.google.com/notebooks/data_table.ipynb>data table notebook</a>'\n",
              "            + ' to learn more about interactive tables.';\n",
              "          element.innerHTML = '';\n",
              "          dataTable['output_type'] = 'display_data';\n",
              "          await google.colab.output.renderOutput(dataTable, element);\n",
              "          const docLink = document.createElement('div');\n",
              "          docLink.innerHTML = docLinkHtml;\n",
              "          element.appendChild(docLink);\n",
              "        }\n",
              "      </script>\n",
              "    </div>\n",
              "  </div>\n",
              "  "
            ],
            "text/plain": [
              "                                               texto   emocao\n",
              "0                          este trabalho é agradável  alegria\n",
              "1                    gosto de ficar no seu aconchego  alegria\n",
              "2                         fiz a adesão ao curso hoje  alegria\n",
              "3                         eu sou admirada por muitos  alegria\n",
              "4                                    adoro como você  alegria\n",
              "..                                               ...      ...\n",
              "186                         a noite e muito perigosa     medo\n",
              "187                 estou estremecendo com essa casa     medo\n",
              "188  olha aquela criatura se movendo monstruosamente     medo\n",
              "189                        não aguento este suspense     medo\n",
              "190                                 afugente os cães     medo\n",
              "\n",
              "[191 rows x 2 columns]"
            ]
          },
          "metadata": {},
          "execution_count": 8
        }
      ],
      "source": [
        "base_dados[:-5]"
      ]
    },
    {
      "cell_type": "code",
      "execution_count": 9,
      "metadata": {
        "colab": {
          "base_uri": "https://localhost:8080/",
          "height": 206
        },
        "id": "UBsgjGg7ssU0",
        "outputId": "9cafe02a-72c2-49f1-f501-73a6139b6822"
      },
      "outputs": [
        {
          "output_type": "execute_result",
          "data": {
            "text/html": [
              "\n",
              "  <div id=\"df-cf31209c-85ff-4f85-aecb-11e62bb64a78\">\n",
              "    <div class=\"colab-df-container\">\n",
              "      <div>\n",
              "<style scoped>\n",
              "    .dataframe tbody tr th:only-of-type {\n",
              "        vertical-align: middle;\n",
              "    }\n",
              "\n",
              "    .dataframe tbody tr th {\n",
              "        vertical-align: top;\n",
              "    }\n",
              "\n",
              "    .dataframe thead th {\n",
              "        text-align: right;\n",
              "    }\n",
              "</style>\n",
              "<table border=\"1\" class=\"dataframe\">\n",
              "  <thead>\n",
              "    <tr style=\"text-align: right;\">\n",
              "      <th></th>\n",
              "      <th>texto</th>\n",
              "      <th>emocao</th>\n",
              "    </tr>\n",
              "  </thead>\n",
              "  <tbody>\n",
              "    <tr>\n",
              "      <th>0</th>\n",
              "      <td>este trabalho é agradável</td>\n",
              "      <td>alegria</td>\n",
              "    </tr>\n",
              "    <tr>\n",
              "      <th>1</th>\n",
              "      <td>gosto de ficar no seu aconchego</td>\n",
              "      <td>alegria</td>\n",
              "    </tr>\n",
              "    <tr>\n",
              "      <th>2</th>\n",
              "      <td>fiz a adesão ao curso hoje</td>\n",
              "      <td>alegria</td>\n",
              "    </tr>\n",
              "    <tr>\n",
              "      <th>3</th>\n",
              "      <td>eu sou admirada por muitos</td>\n",
              "      <td>alegria</td>\n",
              "    </tr>\n",
              "    <tr>\n",
              "      <th>4</th>\n",
              "      <td>adoro como você</td>\n",
              "      <td>alegria</td>\n",
              "    </tr>\n",
              "  </tbody>\n",
              "</table>\n",
              "</div>\n",
              "      <button class=\"colab-df-convert\" onclick=\"convertToInteractive('df-cf31209c-85ff-4f85-aecb-11e62bb64a78')\"\n",
              "              title=\"Convert this dataframe to an interactive table.\"\n",
              "              style=\"display:none;\">\n",
              "        \n",
              "  <svg xmlns=\"http://www.w3.org/2000/svg\" height=\"24px\"viewBox=\"0 0 24 24\"\n",
              "       width=\"24px\">\n",
              "    <path d=\"M0 0h24v24H0V0z\" fill=\"none\"/>\n",
              "    <path d=\"M18.56 5.44l.94 2.06.94-2.06 2.06-.94-2.06-.94-.94-2.06-.94 2.06-2.06.94zm-11 1L8.5 8.5l.94-2.06 2.06-.94-2.06-.94L8.5 2.5l-.94 2.06-2.06.94zm10 10l.94 2.06.94-2.06 2.06-.94-2.06-.94-.94-2.06-.94 2.06-2.06.94z\"/><path d=\"M17.41 7.96l-1.37-1.37c-.4-.4-.92-.59-1.43-.59-.52 0-1.04.2-1.43.59L10.3 9.45l-7.72 7.72c-.78.78-.78 2.05 0 2.83L4 21.41c.39.39.9.59 1.41.59.51 0 1.02-.2 1.41-.59l7.78-7.78 2.81-2.81c.8-.78.8-2.07 0-2.86zM5.41 20L4 18.59l7.72-7.72 1.47 1.35L5.41 20z\"/>\n",
              "  </svg>\n",
              "      </button>\n",
              "      \n",
              "  <style>\n",
              "    .colab-df-container {\n",
              "      display:flex;\n",
              "      flex-wrap:wrap;\n",
              "      gap: 12px;\n",
              "    }\n",
              "\n",
              "    .colab-df-convert {\n",
              "      background-color: #E8F0FE;\n",
              "      border: none;\n",
              "      border-radius: 50%;\n",
              "      cursor: pointer;\n",
              "      display: none;\n",
              "      fill: #1967D2;\n",
              "      height: 32px;\n",
              "      padding: 0 0 0 0;\n",
              "      width: 32px;\n",
              "    }\n",
              "\n",
              "    .colab-df-convert:hover {\n",
              "      background-color: #E2EBFA;\n",
              "      box-shadow: 0px 1px 2px rgba(60, 64, 67, 0.3), 0px 1px 3px 1px rgba(60, 64, 67, 0.15);\n",
              "      fill: #174EA6;\n",
              "    }\n",
              "\n",
              "    [theme=dark] .colab-df-convert {\n",
              "      background-color: #3B4455;\n",
              "      fill: #D2E3FC;\n",
              "    }\n",
              "\n",
              "    [theme=dark] .colab-df-convert:hover {\n",
              "      background-color: #434B5C;\n",
              "      box-shadow: 0px 1px 3px 1px rgba(0, 0, 0, 0.15);\n",
              "      filter: drop-shadow(0px 1px 2px rgba(0, 0, 0, 0.3));\n",
              "      fill: #FFFFFF;\n",
              "    }\n",
              "  </style>\n",
              "\n",
              "      <script>\n",
              "        const buttonEl =\n",
              "          document.querySelector('#df-cf31209c-85ff-4f85-aecb-11e62bb64a78 button.colab-df-convert');\n",
              "        buttonEl.style.display =\n",
              "          google.colab.kernel.accessAllowed ? 'block' : 'none';\n",
              "\n",
              "        async function convertToInteractive(key) {\n",
              "          const element = document.querySelector('#df-cf31209c-85ff-4f85-aecb-11e62bb64a78');\n",
              "          const dataTable =\n",
              "            await google.colab.kernel.invokeFunction('convertToInteractive',\n",
              "                                                     [key], {});\n",
              "          if (!dataTable) return;\n",
              "\n",
              "          const docLinkHtml = 'Like what you see? Visit the ' +\n",
              "            '<a target=\"_blank\" href=https://colab.research.google.com/notebooks/data_table.ipynb>data table notebook</a>'\n",
              "            + ' to learn more about interactive tables.';\n",
              "          element.innerHTML = '';\n",
              "          dataTable['output_type'] = 'display_data';\n",
              "          await google.colab.output.renderOutput(dataTable, element);\n",
              "          const docLink = document.createElement('div');\n",
              "          docLink.innerHTML = docLinkHtml;\n",
              "          element.appendChild(docLink);\n",
              "        }\n",
              "      </script>\n",
              "    </div>\n",
              "  </div>\n",
              "  "
            ],
            "text/plain": [
              "                             texto   emocao\n",
              "0        este trabalho é agradável  alegria\n",
              "1  gosto de ficar no seu aconchego  alegria\n",
              "2       fiz a adesão ao curso hoje  alegria\n",
              "3       eu sou admirada por muitos  alegria\n",
              "4                  adoro como você  alegria"
            ]
          },
          "metadata": {},
          "execution_count": 9
        }
      ],
      "source": [
        "base_dados.head()"
      ]
    },
    {
      "cell_type": "code",
      "execution_count": 10,
      "metadata": {
        "colab": {
          "base_uri": "https://localhost:8080/",
          "height": 206
        },
        "id": "yIghiVL1s4K1",
        "outputId": "258a0594-c5b3-42f0-8774-53e47c27732a"
      },
      "outputs": [
        {
          "output_type": "execute_result",
          "data": {
            "text/html": [
              "\n",
              "  <div id=\"df-3db43d0a-7f10-4d37-b076-a39e597b0d9b\">\n",
              "    <div class=\"colab-df-container\">\n",
              "      <div>\n",
              "<style scoped>\n",
              "    .dataframe tbody tr th:only-of-type {\n",
              "        vertical-align: middle;\n",
              "    }\n",
              "\n",
              "    .dataframe tbody tr th {\n",
              "        vertical-align: top;\n",
              "    }\n",
              "\n",
              "    .dataframe thead th {\n",
              "        text-align: right;\n",
              "    }\n",
              "</style>\n",
              "<table border=\"1\" class=\"dataframe\">\n",
              "  <thead>\n",
              "    <tr style=\"text-align: right;\">\n",
              "      <th></th>\n",
              "      <th>texto</th>\n",
              "      <th>emocao</th>\n",
              "    </tr>\n",
              "  </thead>\n",
              "  <tbody>\n",
              "    <tr>\n",
              "      <th>191</th>\n",
              "      <td>estou chocado e amedrontado com este assassina...</td>\n",
              "      <td>medo</td>\n",
              "    </tr>\n",
              "    <tr>\n",
              "      <th>192</th>\n",
              "      <td>é preciso afugenta com ímpeto este medo do inf...</td>\n",
              "      <td>medo</td>\n",
              "    </tr>\n",
              "    <tr>\n",
              "      <th>193</th>\n",
              "      <td>políticos usam suas forças para afugentar e am...</td>\n",
              "      <td>medo</td>\n",
              "    </tr>\n",
              "    <tr>\n",
              "      <th>194</th>\n",
              "      <td>o objetivo disso e apenas me amedrontar mais</td>\n",
              "      <td>medo</td>\n",
              "    </tr>\n",
              "    <tr>\n",
              "      <th>195</th>\n",
              "      <td>isso me apavora</td>\n",
              "      <td>medo</td>\n",
              "    </tr>\n",
              "  </tbody>\n",
              "</table>\n",
              "</div>\n",
              "      <button class=\"colab-df-convert\" onclick=\"convertToInteractive('df-3db43d0a-7f10-4d37-b076-a39e597b0d9b')\"\n",
              "              title=\"Convert this dataframe to an interactive table.\"\n",
              "              style=\"display:none;\">\n",
              "        \n",
              "  <svg xmlns=\"http://www.w3.org/2000/svg\" height=\"24px\"viewBox=\"0 0 24 24\"\n",
              "       width=\"24px\">\n",
              "    <path d=\"M0 0h24v24H0V0z\" fill=\"none\"/>\n",
              "    <path d=\"M18.56 5.44l.94 2.06.94-2.06 2.06-.94-2.06-.94-.94-2.06-.94 2.06-2.06.94zm-11 1L8.5 8.5l.94-2.06 2.06-.94-2.06-.94L8.5 2.5l-.94 2.06-2.06.94zm10 10l.94 2.06.94-2.06 2.06-.94-2.06-.94-.94-2.06-.94 2.06-2.06.94z\"/><path d=\"M17.41 7.96l-1.37-1.37c-.4-.4-.92-.59-1.43-.59-.52 0-1.04.2-1.43.59L10.3 9.45l-7.72 7.72c-.78.78-.78 2.05 0 2.83L4 21.41c.39.39.9.59 1.41.59.51 0 1.02-.2 1.41-.59l7.78-7.78 2.81-2.81c.8-.78.8-2.07 0-2.86zM5.41 20L4 18.59l7.72-7.72 1.47 1.35L5.41 20z\"/>\n",
              "  </svg>\n",
              "      </button>\n",
              "      \n",
              "  <style>\n",
              "    .colab-df-container {\n",
              "      display:flex;\n",
              "      flex-wrap:wrap;\n",
              "      gap: 12px;\n",
              "    }\n",
              "\n",
              "    .colab-df-convert {\n",
              "      background-color: #E8F0FE;\n",
              "      border: none;\n",
              "      border-radius: 50%;\n",
              "      cursor: pointer;\n",
              "      display: none;\n",
              "      fill: #1967D2;\n",
              "      height: 32px;\n",
              "      padding: 0 0 0 0;\n",
              "      width: 32px;\n",
              "    }\n",
              "\n",
              "    .colab-df-convert:hover {\n",
              "      background-color: #E2EBFA;\n",
              "      box-shadow: 0px 1px 2px rgba(60, 64, 67, 0.3), 0px 1px 3px 1px rgba(60, 64, 67, 0.15);\n",
              "      fill: #174EA6;\n",
              "    }\n",
              "\n",
              "    [theme=dark] .colab-df-convert {\n",
              "      background-color: #3B4455;\n",
              "      fill: #D2E3FC;\n",
              "    }\n",
              "\n",
              "    [theme=dark] .colab-df-convert:hover {\n",
              "      background-color: #434B5C;\n",
              "      box-shadow: 0px 1px 3px 1px rgba(0, 0, 0, 0.15);\n",
              "      filter: drop-shadow(0px 1px 2px rgba(0, 0, 0, 0.3));\n",
              "      fill: #FFFFFF;\n",
              "    }\n",
              "  </style>\n",
              "\n",
              "      <script>\n",
              "        const buttonEl =\n",
              "          document.querySelector('#df-3db43d0a-7f10-4d37-b076-a39e597b0d9b button.colab-df-convert');\n",
              "        buttonEl.style.display =\n",
              "          google.colab.kernel.accessAllowed ? 'block' : 'none';\n",
              "\n",
              "        async function convertToInteractive(key) {\n",
              "          const element = document.querySelector('#df-3db43d0a-7f10-4d37-b076-a39e597b0d9b');\n",
              "          const dataTable =\n",
              "            await google.colab.kernel.invokeFunction('convertToInteractive',\n",
              "                                                     [key], {});\n",
              "          if (!dataTable) return;\n",
              "\n",
              "          const docLinkHtml = 'Like what you see? Visit the ' +\n",
              "            '<a target=\"_blank\" href=https://colab.research.google.com/notebooks/data_table.ipynb>data table notebook</a>'\n",
              "            + ' to learn more about interactive tables.';\n",
              "          element.innerHTML = '';\n",
              "          dataTable['output_type'] = 'display_data';\n",
              "          await google.colab.output.renderOutput(dataTable, element);\n",
              "          const docLink = document.createElement('div');\n",
              "          docLink.innerHTML = docLinkHtml;\n",
              "          element.appendChild(docLink);\n",
              "        }\n",
              "      </script>\n",
              "    </div>\n",
              "  </div>\n",
              "  "
            ],
            "text/plain": [
              "                                                 texto emocao\n",
              "191  estou chocado e amedrontado com este assassina...   medo\n",
              "192  é preciso afugenta com ímpeto este medo do inf...   medo\n",
              "193  políticos usam suas forças para afugentar e am...   medo\n",
              "194       o objetivo disso e apenas me amedrontar mais   medo\n",
              "195                                    isso me apavora   medo"
            ]
          },
          "metadata": {},
          "execution_count": 10
        }
      ],
      "source": [
        "base_dados.tail()"
      ]
    },
    {
      "cell_type": "code",
      "execution_count": 11,
      "metadata": {
        "colab": {
          "base_uri": "https://localhost:8080/",
          "height": 334
        },
        "id": "oyI1WJQ1tAoF",
        "outputId": "207f9ca6-1984-4d0e-b7f2-c912797acb5a"
      },
      "outputs": [
        {
          "output_type": "stream",
          "name": "stderr",
          "text": [
            "/usr/local/lib/python3.7/dist-packages/seaborn/_decorators.py:43: FutureWarning: Pass the following variable as a keyword arg: x. From version 0.12, the only valid positional argument will be `data`, and passing other arguments without an explicit keyword will result in an error or misinterpretation.\n",
            "  FutureWarning\n"
          ]
        },
        {
          "output_type": "display_data",
          "data": {
            "image/png": "[encoded data removed]",
            "text/plain": [
              "<Figure size 432x288 with 1 Axes>"
            ]
          },
          "metadata": {
            "needs_background": "light"
          }
        }
      ],
      "source": [
        "# contar quantos registros existem para cada classe\n",
        "sns.countplot(base_dados['emocao'], label='Contagem');"
      ]
    },
    {
      "cell_type": "markdown",
      "metadata": {
        "id": "Gwi4nePOtyi6"
      },
      "source": [
        "# Etapa 3: Função para pré-processamento dos textos\n",
        "\n",
        "- Letras minúsculas\n",
        "- Nome do usuário (@)\n",
        "- URLs\n",
        "- Espaços em branco\n",
        "- Emoticons\n",
        "- Stop words\n",
        "- Lematização\n",
        "- Pontuações"
      ]
    },
    {
      "cell_type": "code",
      "execution_count": 12,
      "metadata": {
        "colab": {
          "base_uri": "https://localhost:8080/",
          "height": 35
        },
        "id": "z0ihCEYntfK7",
        "outputId": "1ddae391-e2c1-4183-aee4-eae67b685010"
      },
      "outputs": [
        {
          "output_type": "execute_result",
          "data": {
            "application/vnd.google.colaboratory.intrinsic+json": {
              "type": "string"
            },
            "text/plain": [
              "'!\"#$%&\\'()*+,-./:;<=>?@[\\\\]^_`{|}~'"
            ]
          },
          "metadata": {},
          "execution_count": 12
        }
      ],
      "source": [
        "pontuacoes = string.punctuation\n",
        "pontuacoes"
      ]
    },
    {
      "cell_type": "code",
      "execution_count": 13,
      "metadata": {
        "id": "RHF8FMqSuJZM"
      },
      "outputs": [],
      "source": [
        "from spacy.lang.pt.stop_words  import STOP_WORDS\n",
        "stop_words = STOP_WORDS"
      ]
    },
    {
      "cell_type": "code",
      "execution_count": 14,
      "metadata": {
        "colab": {
          "base_uri": "https://localhost:8080/"
        },
        "id": "YoxAAee8um9I",
        "outputId": "d4ded50f-9e0f-495d-8fbe-45322a2003a3"
      },
      "outputs": [
        {
          "output_type": "stream",
          "name": "stdout",
          "text": [
            "{'temos', 'ele', 'todos', 'certamente', 'dão', 'toda', 'cuja', 'doze', 'sabe', 'todas', 'essas', 'põe', 'sexta', 'corrente', 'vossos', 'por', 'caminho', 'embora', 'meus', 'nossas', 'sei', 'final', 'nossa', 'te', 'pelas', 'agora', 'quinze', 'mil', 'onde', 'porém', 'depois', 'porquanto', 'aí', 'este', 'quanto', 'minhas', 'dizer', 'cinco', 'ao', 'comprida', 'falta', 'um', 'fez', 'quinto', 'aqueles', 'pelo', 'fazemos', 'maiorias', 'tiveram', 'dois', 'conselho', 'talvez', 'às', 'uns', 'iniciar', 'grupo', 'seus', 'tão', 'todo', 'em', 'porque', 'naquela', 'dezasseis', 'teus', 'tem', 'fazem', 'vai', 'dezanove', 'sobre', 'somos', 'vezes', 'aos', 'quais', 'aquilo', 'cada', 'mês', 'contudo', 'direita', 'tive', 'devem', 'desse', 'meio', 'vossas', 'ontem', 'da', 'próximo', 'mas', 'quando', 'daquele', 'primeira', 'novos', 'entre', 'lado', 'já', 'favor', 'qualquer', 'saber', 'também', 'terceiro', 'nova', 'apenas', 'debaixo', 'naquele', 'somente', 'estava', 'nossos', 'catorze', 'usa', 'estão', 'vem', 'posição', 'umas', 'sexto', 'certeza', 'onze', 'só', 'dizem', 'eventual', 'maioria', 'máximo', 'faço', 'sem', 'lugar', 'nível', 'grande', 'esses', 'estas', 'além', 'após', 'quarto', 'dá', 'tivestes', 'para', 'fazia', 'vêm', 'vós', 'ali', 'oitava', 'cima', 'contra', 'bastante', 'lá', 'vosso', 'poderá', 'pegar', 'tanta', 'tendes', 'na', 'aquela', 'conhecido', 'sob', 'perto', 'tua', 'estivemos', 'comprido', 'boa', 'neste', 'aquele', 'tente', 'pôde', 'uma', 'estiveram', 'tais', 'me', 'faz', 'tiveste', 'até', 'elas', 'vossa', 'nuns', 'zero', 'tuas', 'teve', 'usar', 'com', 'quieto', 'seis', 'diz', 'cedo', 'tipo', 'longe', 'dez', 'adeus', 'dos', 'fazes', 'porquê', 'vários', 'eles', 'nada', 'nunca', 'vinte', 'de', 'veja', 'quarta', 'aqui', 'vos', 'vez', 'lhe', 'fará', 'menor', 'geral', 'próxima', 'ambas', 'sua', 'partir', 'número', 'podem', 'estou', 'tanto', 'fazeis', 'algumas', 'povo', 'ela', 'vais', 'ainda', 'nos', 'ora', 'momento', 'esteve', 'meu', 'vão', 'ter', 'no', 'obrigada', 'vocês', 'ademais', 'custa', 'mal', 'ou', 'quem', 'querem', 'à', 'sétimo', 'fora', 'podia', 'tentar', 'relação', 'parte', 'disso', 'está', 'aquelas', 'diante', 'sétima', 'breve', 'oitavo', 'cujo', 'inicio', 'que', 'alguns', 'pelos', 'dar', 'é', 'área', 'estás', 'fazer', 'fim', 'quatro', 'desta', 'põem', 'sim', 'nas', 'dezassete', 'quê', 'estivestes', 'possível', 'forma', 'baixo', 'posso', 'fui', 'muito', 'as', 'enquanto', 'pois', 'qual', 'local', 'foi', 'treze', 'estado', 'cento', 'apoia', 'são', 'tu', 'tempo', 'assim', 'sois', 'irá', 'outra', 'esse', 'mesmo', 'és', 'primeiro', 'teu', 'algo', 'portanto', 'nesta', 'pode', 'vindo', 'pontos', 'ambos', 'pouca', 'oito', 'seria', 'suas', 'coisa', 'demais', 'quinta', 'cá', 'então', 'nenhuma', 'foram', 'num', 'meses', 'estiveste', 'essa', 'poder', 'números', 'possivelmente', 'das', 'grandes', 'sempre', 'minha', 'duas', 'sou', 'era', 'seu', 'des', 'parece', 'fomos', 'tal', 'questão', 'através', 'exemplo', 'inclusive', 'vinda', 'terceira', 'tarde', 'eu', 'obrigado', 'nós', 'quer', 'isto', 'três', 'puderam', 'esta', 'nem', 'daquela', 'nosso', 'menos', 'nessa', 'logo', 'ponto', 'nesse', 'não', 'próprio', 'dentro', 'outros', 'do', 'pela', 'deverá', 'dessa', 'tentei', 'apontar', 'muitos', 'deve', 'for', 'tudo', 'tentaram', 'fostes', 'conhecida', 'tivemos', 'sete', 'acerca', 'numa', 'tens', 'maior', 'atrás', 'isso', 'quieta', 'último', 'dezoito', 'antes', 'desde', 'quero', 'como', 'segundo', 'têm', 'vens', 'ligado', 'bem', 'nove', 'estar', 'os', 'ir', 'novas', 'se', 'sistema', 'novo', 'estive', 'apoio', 'tenho', 'outras', 'deste', 'estes', 'estará', 'ser', 'mais', 'pouco', 'valor', 'bom', 'você', 'ver', 'segunda', 'foste'}\n"
          ]
        }
      ],
      "source": [
        "print(stop_words)"
      ]
    },
    {
      "cell_type": "code",
      "execution_count": 15,
      "metadata": {
        "colab": {
          "base_uri": "https://localhost:8080/"
        },
        "id": "RLS9cUgSuq8J",
        "outputId": "1630b9e6-4daa-43d5-ca18-10d603bf07e2"
      },
      "outputs": [
        {
          "output_type": "execute_result",
          "data": {
            "text/plain": [
              "413"
            ]
          },
          "metadata": {},
          "execution_count": 15
        }
      ],
      "source": [
        "len(stop_words)"
      ]
    },
    {
      "cell_type": "code",
      "execution_count": 16,
      "metadata": {
        "id": "Ww_QbGb5ux_A"
      },
      "outputs": [],
      "source": [
        "pln = spacy.load('pt')"
      ]
    },
    {
      "cell_type": "code",
      "execution_count": 17,
      "metadata": {
        "colab": {
          "base_uri": "https://localhost:8080/"
        },
        "id": "o_FDSdXovCcJ",
        "outputId": "c635ab68-7098-4777-e408-ce4350946b97"
      },
      "outputs": [
        {
          "output_type": "execute_result",
          "data": {
            "text/plain": [
              "<spacy.lang.pt.Portuguese at 0x7fce3fdc9f90>"
            ]
          },
          "metadata": {},
          "execution_count": 17
        }
      ],
      "source": [
        "pln"
      ]
    },
    {
      "cell_type": "code",
      "execution_count": 18,
      "metadata": {
        "id": "lU6U__9Kvk-E"
      },
      "outputs": [],
      "source": [
        "def preprocessamento(texto):\n",
        "  documento = pln(texto.lower())\n",
        "\n",
        "  lista = []\n",
        "  for token in documento:\n",
        "    # lista.append(token.text)\n",
        "    lista.append(token.lemma_)\n",
        "\n",
        "  # tirando as pontuações, digítos e stop words\n",
        "  lista = [palavra for palavra in lista if palavra not in stop_words and palavra not in string.punctuation]\n",
        "  lista = ' '.join([str(elemento) for elemento in lista if not elemento.isdigit()])\n",
        "\n",
        "  return lista"
      ]
    },
    {
      "cell_type": "code",
      "execution_count": 19,
      "metadata": {
        "colab": {
          "base_uri": "https://localhost:8080/",
          "height": 35
        },
        "id": "q3e8L0VavvNN",
        "outputId": "23d6faff-cd13-4e41-b91c-25cd213eca3e"
      },
      "outputs": [
        {
          "output_type": "execute_result",
          "data": {
            "application/vnd.google.colaboratory.intrinsic+json": {
              "type": "string"
            },
            "text/plain": [
              "'aprender processamento linguagem natural cursar curitiba'"
            ]
          },
          "metadata": {},
          "execution_count": 19
        }
      ],
      "source": [
        "teste = preprocessamento(\"Estou aprendendo 1 processamento de linguagem natural, curso 21 em Curitiba\")\n",
        "teste"
      ]
    },
    {
      "cell_type": "markdown",
      "metadata": {
        "id": "5P1SUC2zzMZx"
      },
      "source": [
        "# Etapa 4: Pré-processamento da base de dados"
      ]
    },
    {
      "cell_type": "markdown",
      "metadata": {
        "id": "LJXJ-IPQzQL8"
      },
      "source": [
        "### Limpeza dos textos"
      ]
    },
    {
      "cell_type": "code",
      "execution_count": 20,
      "metadata": {
        "colab": {
          "base_uri": "https://localhost:8080/",
          "height": 363
        },
        "id": "HPpP5Eb7wntl",
        "outputId": "c3de96fc-376a-46b7-d774-8294b6d8d9ab"
      },
      "outputs": [
        {
          "output_type": "execute_result",
          "data": {
            "text/html": [
              "\n",
              "  <div id=\"df-6ae696ff-0b4a-40ba-9ebf-1b45583c0d10\">\n",
              "    <div class=\"colab-df-container\">\n",
              "      <div>\n",
              "<style scoped>\n",
              "    .dataframe tbody tr th:only-of-type {\n",
              "        vertical-align: middle;\n",
              "    }\n",
              "\n",
              "    .dataframe tbody tr th {\n",
              "        vertical-align: top;\n",
              "    }\n",
              "\n",
              "    .dataframe thead th {\n",
              "        text-align: right;\n",
              "    }\n",
              "</style>\n",
              "<table border=\"1\" class=\"dataframe\">\n",
              "  <thead>\n",
              "    <tr style=\"text-align: right;\">\n",
              "      <th></th>\n",
              "      <th>texto</th>\n",
              "      <th>emocao</th>\n",
              "    </tr>\n",
              "  </thead>\n",
              "  <tbody>\n",
              "    <tr>\n",
              "      <th>0</th>\n",
              "      <td>este trabalho é agradável</td>\n",
              "      <td>alegria</td>\n",
              "    </tr>\n",
              "    <tr>\n",
              "      <th>1</th>\n",
              "      <td>gosto de ficar no seu aconchego</td>\n",
              "      <td>alegria</td>\n",
              "    </tr>\n",
              "    <tr>\n",
              "      <th>2</th>\n",
              "      <td>fiz a adesão ao curso hoje</td>\n",
              "      <td>alegria</td>\n",
              "    </tr>\n",
              "    <tr>\n",
              "      <th>3</th>\n",
              "      <td>eu sou admirada por muitos</td>\n",
              "      <td>alegria</td>\n",
              "    </tr>\n",
              "    <tr>\n",
              "      <th>4</th>\n",
              "      <td>adoro como você</td>\n",
              "      <td>alegria</td>\n",
              "    </tr>\n",
              "    <tr>\n",
              "      <th>5</th>\n",
              "      <td>adoro seu cabelo macio</td>\n",
              "      <td>alegria</td>\n",
              "    </tr>\n",
              "    <tr>\n",
              "      <th>6</th>\n",
              "      <td>adoro a cor dos seus olhos</td>\n",
              "      <td>alegria</td>\n",
              "    </tr>\n",
              "    <tr>\n",
              "      <th>7</th>\n",
              "      <td>somo tão amáveis um com o outro</td>\n",
              "      <td>alegria</td>\n",
              "    </tr>\n",
              "    <tr>\n",
              "      <th>8</th>\n",
              "      <td>sinto uma grande afeição por ele</td>\n",
              "      <td>alegria</td>\n",
              "    </tr>\n",
              "    <tr>\n",
              "      <th>9</th>\n",
              "      <td>quero agradar meus filhos</td>\n",
              "      <td>alegria</td>\n",
              "    </tr>\n",
              "  </tbody>\n",
              "</table>\n",
              "</div>\n",
              "      <button class=\"colab-df-convert\" onclick=\"convertToInteractive('df-6ae696ff-0b4a-40ba-9ebf-1b45583c0d10')\"\n",
              "              title=\"Convert this dataframe to an interactive table.\"\n",
              "              style=\"display:none;\">\n",
              "        \n",
              "  <svg xmlns=\"http://www.w3.org/2000/svg\" height=\"24px\"viewBox=\"0 0 24 24\"\n",
              "       width=\"24px\">\n",
              "    <path d=\"M0 0h24v24H0V0z\" fill=\"none\"/>\n",
              "    <path d=\"M18.56 5.44l.94 2.06.94-2.06 2.06-.94-2.06-.94-.94-2.06-.94 2.06-2.06.94zm-11 1L8.5 8.5l.94-2.06 2.06-.94-2.06-.94L8.5 2.5l-.94 2.06-2.06.94zm10 10l.94 2.06.94-2.06 2.06-.94-2.06-.94-.94-2.06-.94 2.06-2.06.94z\"/><path d=\"M17.41 7.96l-1.37-1.37c-.4-.4-.92-.59-1.43-.59-.52 0-1.04.2-1.43.59L10.3 9.45l-7.72 7.72c-.78.78-.78 2.05 0 2.83L4 21.41c.39.39.9.59 1.41.59.51 0 1.02-.2 1.41-.59l7.78-7.78 2.81-2.81c.8-.78.8-2.07 0-2.86zM5.41 20L4 18.59l7.72-7.72 1.47 1.35L5.41 20z\"/>\n",
              "  </svg>\n",
              "      </button>\n",
              "      \n",
              "  <style>\n",
              "    .colab-df-container {\n",
              "      display:flex;\n",
              "      flex-wrap:wrap;\n",
              "      gap: 12px;\n",
              "    }\n",
              "\n",
              "    .colab-df-convert {\n",
              "      background-color: #E8F0FE;\n",
              "      border: none;\n",
              "      border-radius: 50%;\n",
              "      cursor: pointer;\n",
              "      display: none;\n",
              "      fill: #1967D2;\n",
              "      height: 32px;\n",
              "      padding: 0 0 0 0;\n",
              "      width: 32px;\n",
              "    }\n",
              "\n",
              "    .colab-df-convert:hover {\n",
              "      background-color: #E2EBFA;\n",
              "      box-shadow: 0px 1px 2px rgba(60, 64, 67, 0.3), 0px 1px 3px 1px rgba(60, 64, 67, 0.15);\n",
              "      fill: #174EA6;\n",
              "    }\n",
              "\n",
              "    [theme=dark] .colab-df-convert {\n",
              "      background-color: #3B4455;\n",
              "      fill: #D2E3FC;\n",
              "    }\n",
              "\n",
              "    [theme=dark] .colab-df-convert:hover {\n",
              "      background-color: #434B5C;\n",
              "      box-shadow: 0px 1px 3px 1px rgba(0, 0, 0, 0.15);\n",
              "      filter: drop-shadow(0px 1px 2px rgba(0, 0, 0, 0.3));\n",
              "      fill: #FFFFFF;\n",
              "    }\n",
              "  </style>\n",
              "\n",
              "      <script>\n",
              "        const buttonEl =\n",
              "          document.querySelector('#df-6ae696ff-0b4a-40ba-9ebf-1b45583c0d10 button.colab-df-convert');\n",
              "        buttonEl.style.display =\n",
              "          google.colab.kernel.accessAllowed ? 'block' : 'none';\n",
              "\n",
              "        async function convertToInteractive(key) {\n",
              "          const element = document.querySelector('#df-6ae696ff-0b4a-40ba-9ebf-1b45583c0d10');\n",
              "          const dataTable =\n",
              "            await google.colab.kernel.invokeFunction('convertToInteractive',\n",
              "                                                     [key], {});\n",
              "          if (!dataTable) return;\n",
              "\n",
              "          const docLinkHtml = 'Like what you see? Visit the ' +\n",
              "            '<a target=\"_blank\" href=https://colab.research.google.com/notebooks/data_table.ipynb>data table notebook</a>'\n",
              "            + ' to learn more about interactive tables.';\n",
              "          element.innerHTML = '';\n",
              "          dataTable['output_type'] = 'display_data';\n",
              "          await google.colab.output.renderOutput(dataTable, element);\n",
              "          const docLink = document.createElement('div');\n",
              "          docLink.innerHTML = docLinkHtml;\n",
              "          element.appendChild(docLink);\n",
              "        }\n",
              "      </script>\n",
              "    </div>\n",
              "  </div>\n",
              "  "
            ],
            "text/plain": [
              "                              texto   emocao\n",
              "0         este trabalho é agradável  alegria\n",
              "1   gosto de ficar no seu aconchego  alegria\n",
              "2        fiz a adesão ao curso hoje  alegria\n",
              "3        eu sou admirada por muitos  alegria\n",
              "4                   adoro como você  alegria\n",
              "5            adoro seu cabelo macio  alegria\n",
              "6        adoro a cor dos seus olhos  alegria\n",
              "7   somo tão amáveis um com o outro  alegria\n",
              "8  sinto uma grande afeição por ele  alegria\n",
              "9         quero agradar meus filhos  alegria"
            ]
          },
          "metadata": {},
          "execution_count": 20
        }
      ],
      "source": [
        "base_dados.head(10)"
      ]
    },
    {
      "cell_type": "code",
      "execution_count": 21,
      "metadata": {
        "id": "J9C6SNkjzc0f"
      },
      "outputs": [],
      "source": [
        "base_dados['texto'] = base_dados['texto'].apply(preprocessamento)"
      ]
    },
    {
      "cell_type": "code",
      "execution_count": 22,
      "metadata": {
        "colab": {
          "base_uri": "https://localhost:8080/"
        },
        "id": "_rkaiFMqzgo3",
        "outputId": "785edb6e-5135-44dd-9c5c-b5f41e611ce3"
      },
      "outputs": [
        {
          "output_type": "execute_result",
          "data": {
            "text/plain": [
              "0          trabalhar agradável\n",
              "1    gostar ficar o aconchegar\n",
              "2     o adesão o o cursar hoje\n",
              "3                      admirar\n",
              "4                 adorar comer\n",
              "5        adorar cabelar maciar\n",
              "6            adorar o cor olho\n",
              "7         somar amável o outro\n",
              "8          sentir umar afeição\n",
              "9         querer agradar filho\n",
              "Name: texto, dtype: object"
            ]
          },
          "metadata": {},
          "execution_count": 22
        }
      ],
      "source": [
        "base_dados['texto'].head(10)"
      ]
    },
    {
      "cell_type": "markdown",
      "metadata": {
        "id": "s7ZX8PRS1AA5"
      },
      "source": [
        "### Tratamento da classe"
      ]
    },
    {
      "cell_type": "code",
      "execution_count": 23,
      "metadata": {
        "id": "WkE7TOQZ0ILi"
      },
      "outputs": [],
      "source": [
        "exemplo_base_dados = [[\"este trabalho é agradável\", {\"ALEGRIA\": True, \"MEDO\": False}],\n",
        "                      [\"este lugar continua assustador\", {\"ALEGRIA\": False, \"MEDO\": True}]]"
      ]
    },
    {
      "cell_type": "code",
      "execution_count": 24,
      "metadata": {
        "colab": {
          "base_uri": "https://localhost:8080/"
        },
        "id": "F_PNp9N003q2",
        "outputId": "fdc3e8f5-82ea-4cac-f42c-99a2a50bc618"
      },
      "outputs": [
        {
          "output_type": "execute_result",
          "data": {
            "text/plain": [
              "list"
            ]
          },
          "metadata": {},
          "execution_count": 24
        }
      ],
      "source": [
        "type(exemplo_base_dados)"
      ]
    },
    {
      "cell_type": "code",
      "execution_count": 25,
      "metadata": {
        "colab": {
          "base_uri": "https://localhost:8080/"
        },
        "id": "A6tHu9ma1oUg",
        "outputId": "ce08ab69-13ee-4509-e8da-a1e7fca64b87"
      },
      "outputs": [
        {
          "output_type": "execute_result",
          "data": {
            "text/plain": [
              "['este trabalho é agradável', {'ALEGRIA': True, 'MEDO': False}]"
            ]
          },
          "metadata": {},
          "execution_count": 25
        }
      ],
      "source": [
        "exemplo_base_dados[0]"
      ]
    },
    {
      "cell_type": "code",
      "execution_count": 26,
      "metadata": {
        "colab": {
          "base_uri": "https://localhost:8080/",
          "height": 35
        },
        "id": "JEmar_711qun",
        "outputId": "25ed4aef-722b-4b7a-fa36-52a8de505fd7"
      },
      "outputs": [
        {
          "output_type": "execute_result",
          "data": {
            "application/vnd.google.colaboratory.intrinsic+json": {
              "type": "string"
            },
            "text/plain": [
              "'este trabalho é agradável'"
            ]
          },
          "metadata": {},
          "execution_count": 26
        }
      ],
      "source": [
        "exemplo_base_dados[0][0]"
      ]
    },
    {
      "cell_type": "code",
      "execution_count": 27,
      "metadata": {
        "colab": {
          "base_uri": "https://localhost:8080/"
        },
        "id": "-kSqnT4-1s1z",
        "outputId": "8f740c1c-c18b-4739-a455-bf317bff92bb"
      },
      "outputs": [
        {
          "output_type": "execute_result",
          "data": {
            "text/plain": [
              "True"
            ]
          },
          "metadata": {},
          "execution_count": 27
        }
      ],
      "source": [
        "exemplo_base_dados[0][1]['ALEGRIA']"
      ]
    },
    {
      "cell_type": "code",
      "execution_count": 28,
      "metadata": {
        "colab": {
          "base_uri": "https://localhost:8080/"
        },
        "id": "YJdam_F51yD5",
        "outputId": "a1af06f4-87cc-4148-c6df-f91aadee06d1"
      },
      "outputs": [
        {
          "output_type": "execute_result",
          "data": {
            "text/plain": [
              "dict"
            ]
          },
          "metadata": {},
          "execution_count": 28
        }
      ],
      "source": [
        "type(exemplo_base_dados[0][1])"
      ]
    },
    {
      "cell_type": "code",
      "execution_count": 29,
      "metadata": {
        "id": "vMhSh5A711uC"
      },
      "outputs": [],
      "source": [
        "base_dados_final = []\n",
        "\n",
        "for texto, emocao in zip(base_dados['texto'], base_dados['emocao']):\n",
        "  if emocao == 'alegria':\n",
        "    dic = {\"ALEGRIA\": True, \"MEDO\": False}\n",
        "  elif emocao == 'medo':\n",
        "    {\"ALEGRIA\": False, \"MEDO\": True}\n",
        "\n",
        "  base_dados_final.append([texto, dic.copy()])"
      ]
    },
    {
      "cell_type": "code",
      "execution_count": 30,
      "metadata": {
        "colab": {
          "base_uri": "https://localhost:8080/"
        },
        "id": "Z33JqmU73kyH",
        "outputId": "cae67ca6-ba2f-419f-ac8d-a4001e3b877b"
      },
      "outputs": [
        {
          "output_type": "execute_result",
          "data": {
            "text/plain": [
              "196"
            ]
          },
          "metadata": {},
          "execution_count": 30
        }
      ],
      "source": [
        "len(base_dados_final)"
      ]
    },
    {
      "cell_type": "code",
      "execution_count": 31,
      "metadata": {
        "colab": {
          "base_uri": "https://localhost:8080/"
        },
        "id": "53Heva173hp9",
        "outputId": "b8a6784f-b56d-450f-ba3e-39a8c1868bf8"
      },
      "outputs": [
        {
          "output_type": "execute_result",
          "data": {
            "text/plain": [
              "['trabalhar agradável', {'ALEGRIA': True, 'MEDO': False}]"
            ]
          },
          "metadata": {},
          "execution_count": 31
        }
      ],
      "source": [
        "base_dados_final[0]"
      ]
    },
    {
      "cell_type": "code",
      "execution_count": 32,
      "metadata": {
        "colab": {
          "base_uri": "https://localhost:8080/"
        },
        "id": "z2fhGbpl3qCW",
        "outputId": "5c51eb28-9fb5-4496-ee1d-d59e65656db6"
      },
      "outputs": [
        {
          "output_type": "execute_result",
          "data": {
            "text/plain": [
              "{'ALEGRIA': True, 'MEDO': False}"
            ]
          },
          "metadata": {},
          "execution_count": 32
        }
      ],
      "source": [
        "base_dados_final[0][1]"
      ]
    },
    {
      "cell_type": "code",
      "execution_count": 33,
      "metadata": {
        "colab": {
          "base_uri": "https://localhost:8080/"
        },
        "id": "QO7kXsy93yNP",
        "outputId": "7b6d46c7-9b7b-41a4-867e-d08ee561ecee"
      },
      "outputs": [
        {
          "output_type": "execute_result",
          "data": {
            "text/plain": [
              "dict"
            ]
          },
          "metadata": {},
          "execution_count": 33
        }
      ],
      "source": [
        "type(base_dados_final[0][1])"
      ]
    },
    {
      "cell_type": "code",
      "execution_count": 34,
      "metadata": {
        "colab": {
          "base_uri": "https://localhost:8080/"
        },
        "id": "SiMdBXDZ30Kj",
        "outputId": "1ff1d421-6e63-4960-c1aa-750ff08868bb"
      },
      "outputs": [
        {
          "output_type": "execute_result",
          "data": {
            "text/plain": [
              "[['trabalhar agradável', {'ALEGRIA': True, 'MEDO': False}],\n",
              " ['gostar ficar o aconchegar', {'ALEGRIA': True, 'MEDO': False}],\n",
              " ['o adesão o o cursar hoje', {'ALEGRIA': True, 'MEDO': False}],\n",
              " ['admirar', {'ALEGRIA': True, 'MEDO': False}],\n",
              " ['adorar comer', {'ALEGRIA': True, 'MEDO': False}],\n",
              " ['adorar cabelar maciar', {'ALEGRIA': True, 'MEDO': False}],\n",
              " ['adorar o cor olho', {'ALEGRIA': True, 'MEDO': False}],\n",
              " ['somar amável o outro', {'ALEGRIA': True, 'MEDO': False}],\n",
              " ['sentir umar afeição', {'ALEGRIA': True, 'MEDO': False}],\n",
              " ['querer agradar filho', {'ALEGRIA': True, 'MEDO': False}],\n",
              " ['sentir completamente amar', {'ALEGRIA': True, 'MEDO': False}],\n",
              " ['amar', {'ALEGRIA': True, 'MEDO': False}],\n",
              " ['alívio', {'ALEGRIA': True, 'MEDO': False}],\n",
              " ['o dor amenizar finalmente', {'ALEGRIA': True, 'MEDO': False}],\n",
              " ['achar apaixonar', {'ALEGRIA': True, 'MEDO': False}],\n",
              " ['amar maravilhoso', {'ALEGRIA': True, 'MEDO': False}],\n",
              " ['sentir animar', {'ALEGRIA': True, 'MEDO': False}],\n",
              " ['sentir hoje', {'ALEGRIA': True, 'MEDO': False}],\n",
              " ['comer o luar belo', {'ALEGRIA': True, 'MEDO': False}],\n",
              " ['o dia bonito', {'ALEGRIA': True, 'MEDO': False}],\n",
              " ['comer afortunar', {'ALEGRIA': True, 'MEDO': False}],\n",
              " ['o maravilhar mundo', {'ALEGRIA': True, 'MEDO': False}],\n",
              " ['receber caro hoje colega', {'ALEGRIA': True, 'MEDO': False}],\n",
              " ['sentir reconfortar hoje', {'ALEGRIA': True, 'MEDO': False}],\n",
              " ['o amigo', {'ALEGRIA': True, 'MEDO': False}],\n",
              " ['contentar o resultar teste', {'ALEGRIA': True, 'MEDO': False}],\n",
              " ['pintura brilhante', {'ALEGRIA': True, 'MEDO': False}],\n",
              " ['água abundância', {'ALEGRIA': True, 'MEDO': False}],\n",
              " ['roupar delicado', {'ALEGRIA': True, 'MEDO': False}],\n",
              " ['comediante', {'ALEGRIA': True, 'MEDO': False}],\n",
              " ['bondade o suar', {'ALEGRIA': True, 'MEDO': False}],\n",
              " ['o amor lindar', {'ALEGRIA': True, 'MEDO': False}],\n",
              " ['amizade durar parir', {'ALEGRIA': True, 'MEDO': False}],\n",
              " ['eufórico o notícia', {'ALEGRIA': True, 'MEDO': False}],\n",
              " ['realmente fiel o mim', {'ALEGRIA': True, 'MEDO': False}],\n",
              " ['umar festa parir comemorar aniversário', {'ALEGRIA': True, 'MEDO': False}],\n",
              " ['graça o deus enxergar o certar', {'ALEGRIA': True, 'MEDO': False}],\n",
              " ['o melhor escolher', {'ALEGRIA': True, 'MEDO': False}],\n",
              " ['o incrível belo', {'ALEGRIA': True, 'MEDO': False}],\n",
              " ['engraçar explicar', {'ALEGRIA': True, 'MEDO': False}],\n",
              " ['emocionante n', {'ALEGRIA': True, 'MEDO': False}],\n",
              " ['cativar pelar olhar', {'ALEGRIA': True, 'MEDO': False}],\n",
              " ['loucamente apaixonar', {'ALEGRIA': True, 'MEDO': False}],\n",
              " ['dúvida', {'ALEGRIA': True, 'MEDO': False}],\n",
              " ['rodear pelar abraçar', {'ALEGRIA': True, 'MEDO': False}],\n",
              " ['estrelo pelar caminhar', {'ALEGRIA': True, 'MEDO': False}],\n",
              " ['sentir o sol', {'ALEGRIA': True, 'MEDO': False}],\n",
              " ['sorrir orelhar o orelhar', {'ALEGRIA': True, 'MEDO': False}],\n",
              " ['valer o peno', {'ALEGRIA': True, 'MEDO': False}],\n",
              " ['finalmente colocar amor', {'ALEGRIA': True, 'MEDO': False}],\n",
              " ['nó dançar noite adentrar', {'ALEGRIA': True, 'MEDO': False}],\n",
              " ['amor brilhante', {'ALEGRIA': True, 'MEDO': False}],\n",
              " ['tocar coração durante o caminhar', {'ALEGRIA': True, 'MEDO': False}],\n",
              " ['suar amigo e companheiro', {'ALEGRIA': True, 'MEDO': False}],\n",
              " ['trazer voltar o vidar', {'ALEGRIA': True, 'MEDO': False}],\n",
              " ['e comer sonhar doce', {'ALEGRIA': True, 'MEDO': False}],\n",
              " ['adorar doce frutar', {'ALEGRIA': True, 'MEDO': False}],\n",
              " ['suco favorito', {'ALEGRIA': True, 'MEDO': False}],\n",
              " ['agradecido pelar ajudar', {'ALEGRIA': True, 'MEDO': False}],\n",
              " ['enorme prazer equipar', {'ALEGRIA': True, 'MEDO': False}],\n",
              " ['trabalhar equipar o melhor', {'ALEGRIA': True, 'MEDO': False}],\n",
              " ['sentir flutuar o ar', {'ALEGRIA': True, 'MEDO': False}],\n",
              " ['o brisa agradável hoje', {'ALEGRIA': True, 'MEDO': False}],\n",
              " ['ótimo e compatível', {'ALEGRIA': True, 'MEDO': False}],\n",
              " ['compatível o outro', {'ALEGRIA': True, 'MEDO': False}],\n",
              " ['o órgão compatível o paciente', {'ALEGRIA': True, 'MEDO': False}],\n",
              " ['contentar aceito o faculdade', {'ALEGRIA': True, 'MEDO': False}],\n",
              " ['aprovar o exame', {'ALEGRIA': True, 'MEDO': False}],\n",
              " ['beneficiar pelar empresar', {'ALEGRIA': True, 'MEDO': False}],\n",
              " ['cativante', {'ALEGRIA': True, 'MEDO': False}],\n",
              " ['contentar o apoiar', {'ALEGRIA': True, 'MEDO': False}],\n",
              " ['comer e confortável', {'ALEGRIA': True, 'MEDO': False}],\n",
              " ['e quentar n frio', {'ALEGRIA': True, 'MEDO': False}],\n",
              " ['elogiar e', {'ALEGRIA': True, 'MEDO': False}],\n",
              " ['chamar parir comemorar', {'ALEGRIA': True, 'MEDO': False}],\n",
              " ['desejável o suar presença apresentação', {'ALEGRIA': True, 'MEDO': False}],\n",
              " ['grato o', {'ALEGRIA': True, 'MEDO': False}],\n",
              " ['dedicar n', {'ALEGRIA': True, 'MEDO': False}],\n",
              " ['completamente apaixonar', {'ALEGRIA': True, 'MEDO': False}],\n",
              " ['agitar noite', {'ALEGRIA': True, 'MEDO': False}],\n",
              " ['significar parir mim', {'ALEGRIA': True, 'MEDO': False}],\n",
              " ['agir preconceito e julgamento', {'ALEGRIA': True, 'MEDO': False}],\n",
              " ['finalmente completar o coleção maravilhoso',\n",
              "  {'ALEGRIA': True, 'MEDO': False}],\n",
              " ['suar rei', {'ALEGRIA': True, 'MEDO': False}],\n",
              " ['satisfatoriamente anunciar o vencedor jogo',\n",
              "  {'ALEGRIA': True, 'MEDO': False}],\n",
              " ['atrair facilmente', {'ALEGRIA': True, 'MEDO': False}],\n",
              " ['rapaz e extremamente atraente', {'ALEGRIA': True, 'MEDO': False}],\n",
              " ['sinto-me vivo', {'ALEGRIA': True, 'MEDO': False}],\n",
              " ['sinto-me paz', {'ALEGRIA': True, 'MEDO': False}],\n",
              " ['lucrar', {'ALEGRIA': True, 'MEDO': False}],\n",
              " ['ordem', {'ALEGRIA': True, 'MEDO': False}],\n",
              " ['arrumar empregar junto', {'ALEGRIA': True, 'MEDO': False}],\n",
              " ['o arrumação terminar alívio', {'ALEGRIA': True, 'MEDO': False}],\n",
              " ['o câncer benigno', {'ALEGRIA': True, 'MEDO': False}],\n",
              " ['o amor abundante', {'ALEGRIA': True, 'MEDO': False}],\n",
              " ['caridoso natal', {'ALEGRIA': True, 'MEDO': False}],\n",
              " ['charme irar atrair o', {'ALEGRIA': True, 'MEDO': False}],\n",
              " ['comer charmoso querer', {'ALEGRIA': True, 'MEDO': False}],\n",
              " ['querido amigo', {'ALEGRIA': True, 'MEDO': False}],\n",
              " ['cuidadoso o sentimento', {'ALEGRIA': True, 'MEDO': False}],\n",
              " ['comover tamanho caridade', {'ALEGRIA': True, 'MEDO': False}],\n",
              " ['chá quentar e reconfortante', {'ALEGRIA': True, 'MEDO': False}],\n",
              " ['alegria', {'ALEGRIA': True, 'MEDO': False}],\n",
              " ['aplaudir o vencedor', {'ALEGRIA': True, 'MEDO': False}],\n",
              " ['palmar parir o aniversariante', {'ALEGRIA': True, 'MEDO': False}],\n",
              " ['desejar o', {'ALEGRIA': True, 'MEDO': False}],\n",
              " ['horar apreciar vinho', {'ALEGRIA': True, 'MEDO': False}],\n",
              " ['apreciar suar presença escola', {'ALEGRIA': True, 'MEDO': False}],\n",
              " ['ansiar trabalho', {'ALEGRIA': True, 'MEDO': False}],\n",
              " ['maravilhoso jogar amistoso', {'ALEGRIA': True, 'MEDO': False}],\n",
              " ['e ótimo o menimos apaziguar', {'ALEGRIA': True, 'MEDO': False}],\n",
              " ['concretizar finalmente sonhar', {'ALEGRIA': True, 'MEDO': False}],\n",
              " ['implorar matar', {'ALEGRIA': True, 'MEDO': False}],\n",
              " ['perigoso', {'ALEGRIA': True, 'MEDO': False}],\n",
              " ['segurar', {'ALEGRIA': True, 'MEDO': False}],\n",
              " ['correr pra', {'ALEGRIA': True, 'MEDO': False}],\n",
              " ['socorrer querer roubar o doce', {'ALEGRIA': True, 'MEDO': False}],\n",
              " ['caro perseguir', {'ALEGRIA': True, 'MEDO': False}],\n",
              " ['entrar perigoso', {'ALEGRIA': True, 'MEDO': False}],\n",
              " ['continuar assustador', {'ALEGRIA': True, 'MEDO': False}],\n",
              " ['o selva animar perigoso', {'ALEGRIA': True, 'MEDO': False}],\n",
              " ['avançar cautela', {'ALEGRIA': True, 'MEDO': False}],\n",
              " ['silencioso cuidar', {'ALEGRIA': True, 'MEDO': False}],\n",
              " ['deixe-me viver', {'ALEGRIA': True, 'MEDO': False}],\n",
              " ['ficar mesada tirar noto', {'ALEGRIA': True, 'MEDO': False}],\n",
              " ['parecer olho o vigiar', {'ALEGRIA': True, 'MEDO': False}],\n",
              " ['o sentença juiz negativo', {'ALEGRIA': True, 'MEDO': False}],\n",
              " ['missão arriscar', {'ALEGRIA': True, 'MEDO': False}],\n",
              " ['salvem-se', {'ALEGRIA': True, 'MEDO': False}],\n",
              " ['planar descobrir', {'ALEGRIA': True, 'MEDO': False}],\n",
              " ['culpar jurar', {'ALEGRIA': True, 'MEDO': False}],\n",
              " ['tomar cuidar o lobisomem', {'ALEGRIA': True, 'MEDO': False}],\n",
              " ['achar descobrir o verdade', {'ALEGRIA': True, 'MEDO': False}],\n",
              " ['deus desaparecer', {'ALEGRIA': True, 'MEDO': False}],\n",
              " ['tomar d', {'ALEGRIA': True, 'MEDO': False}],\n",
              " ['manter segredar descobrir ferrar', {'ALEGRIA': True, 'MEDO': False}],\n",
              " ['soltar inocentar', {'ALEGRIA': True, 'MEDO': False}],\n",
              " ['ouvir passo mim', {'ALEGRIA': True, 'MEDO': False}],\n",
              " ['pedir socorrer', {'ALEGRIA': True, 'MEDO': False}],\n",
              " ['cuidar o curvo o estrar', {'ALEGRIA': True, 'MEDO': False}],\n",
              " ['parecer perigoso', {'ALEGRIA': True, 'MEDO': False}],\n",
              " ['tremer medo', {'ALEGRIA': True, 'MEDO': False}],\n",
              " ['socorrer cair', {'ALEGRIA': True, 'MEDO': False}],\n",
              " ['o florestar negro perigoso', {'ALEGRIA': True, 'MEDO': False}],\n",
              " ['ouvir passo o direção', {'ALEGRIA': True, 'MEDO': False}],\n",
              " ['achar arriscar', {'ALEGRIA': True, 'MEDO': False}],\n",
              " ['voltar perigoso', {'ALEGRIA': True, 'MEDO': False}],\n",
              " ['fugir acabar morto', {'ALEGRIA': True, 'MEDO': False}],\n",
              " ['recear livrar d situação', {'ALEGRIA': True, 'MEDO': False}],\n",
              " ['socorrer armar', {'ALEGRIA': True, 'MEDO': False}],\n",
              " ['eis cuidar bater o postar', {'ALEGRIA': True, 'MEDO': False}],\n",
              " ['socorrer nó afundar', {'ALEGRIA': True, 'MEDO': False}],\n",
              " ['e sério cuidar armar', {'ALEGRIA': True, 'MEDO': False}],\n",
              " ['o tubarão atacar', {'ALEGRIA': True, 'MEDO': False}],\n",
              " ['sentir arrepio ficar o escuro', {'ALEGRIA': True, 'MEDO': False}],\n",
              " ['calmo o dinheiro', {'ALEGRIA': True, 'MEDO': False}],\n",
              " ['achar enganar', {'ALEGRIA': True, 'MEDO': False}],\n",
              " ['ligeiro fugir depressa', {'ALEGRIA': True, 'MEDO': False}],\n",
              " ['crocodilo selvagem vir parir', {'ALEGRIA': True, 'MEDO': False}],\n",
              " ['ficar o achar', {'ALEGRIA': True, 'MEDO': False}],\n",
              " ['fugir o tigre parecer faminto', {'ALEGRIA': True, 'MEDO': False}],\n",
              " ['sair precisar milagre', {'ALEGRIA': True, 'MEDO': False}],\n",
              " ['tirar mim socorrer', {'ALEGRIA': True, 'MEDO': False}],\n",
              " ['nadar afogar', {'ALEGRIA': True, 'MEDO': False}],\n",
              " ['e segurar', {'ALEGRIA': True, 'MEDO': False}],\n",
              " ['apanhar pai boletim', {'ALEGRIA': True, 'MEDO': False}],\n",
              " ['conseguir sair d', {'ALEGRIA': True, 'MEDO': False}],\n",
              " ['sair tardar assaltar', {'ALEGRIA': True, 'MEDO': False}],\n",
              " ['deixar', {'ALEGRIA': True, 'MEDO': False}],\n",
              " ['esperar largar', {'ALEGRIA': True, 'MEDO': False}],\n",
              " ['pelar suar segurança', {'ALEGRIA': True, 'MEDO': False}],\n",
              " ['entregar o dinheiro matar', {'ALEGRIA': True, 'MEDO': False}],\n",
              " ['levar o dinheiro', {'ALEGRIA': True, 'MEDO': False}],\n",
              " ['dirigir rápido', {'ALEGRIA': True, 'MEDO': False}],\n",
              " ['descobrir prender', {'ALEGRIA': True, 'MEDO': False}],\n",
              " ['esperar nenhum', {'ALEGRIA': True, 'MEDO': False}],\n",
              " ['afogar ajudar o sair água', {'ALEGRIA': True, 'MEDO': False}],\n",
              " ['o salvar', {'ALEGRIA': True, 'MEDO': False}],\n",
              " ['querer pensar o acontecer', {'ALEGRIA': True, 'MEDO': False}],\n",
              " ['n cidade umar desgraçar outro', {'ALEGRIA': True, 'MEDO': False}],\n",
              " ['alguém ligar assustar', {'ALEGRIA': True, 'MEDO': False}],\n",
              " ['remedio matar', {'ALEGRIA': True, 'MEDO': False}],\n",
              " ['confiar n cautela', {'ALEGRIA': True, 'MEDO': False}],\n",
              " ['cautela', {'ALEGRIA': True, 'MEDO': False}],\n",
              " ['descobrir deus', {'ALEGRIA': True, 'MEDO': False}],\n",
              " ['recear', {'ALEGRIA': True, 'MEDO': False}],\n",
              " ['o noite e perigoso', {'ALEGRIA': True, 'MEDO': False}],\n",
              " ['estremecer casar', {'ALEGRIA': True, 'MEDO': False}],\n",
              " ['olhar criatura mover monstruosamente', {'ALEGRIA': True, 'MEDO': False}],\n",
              " ['aguentar suspense', {'ALEGRIA': True, 'MEDO': False}],\n",
              " ['afugentar o cão', {'ALEGRIA': True, 'MEDO': False}],\n",
              " ['chocar e amedrontar assassinato brutal', {'ALEGRIA': True, 'MEDO': False}],\n",
              " ['precisar afugentar ímpeto medo infernar', {'ALEGRIA': True, 'MEDO': False}],\n",
              " ['político suar forçar parir afugentar e amedrontar o',\n",
              "  {'ALEGRIA': True, 'MEDO': False}],\n",
              " ['o objetivo d e amedrontar', {'ALEGRIA': True, 'MEDO': False}],\n",
              " ['apavorar', {'ALEGRIA': True, 'MEDO': False}]]"
            ]
          },
          "metadata": {},
          "execution_count": 34
        }
      ],
      "source": [
        "base_dados_final"
      ]
    },
    {
      "cell_type": "code",
      "execution_count": 34,
      "metadata": {
        "id": "8Ebla9y7351B"
      },
      "outputs": [],
      "source": [
        ""
      ]
    },
    {
      "cell_type": "markdown",
      "metadata": {
        "id": "7P82esu-usOu"
      },
      "source": [
        "# Etapa 5: Criação do classificador"
      ]
    },
    {
      "cell_type": "code",
      "execution_count": 35,
      "metadata": {
        "id": "GWaYR0gBuxg1"
      },
      "outputs": [],
      "source": [
        "# limpando o modelo\n",
        "modelo = spacy.blank('pt')\n",
        "\n",
        "# indicando uma classificação de textos\n",
        "categorias = modelo.create_pipe(\"textcat\")\n",
        "\n",
        "# informando os labels\n",
        "categorias.add_label(\"ALEGRIA\")\n",
        "categorias.add_label(\"MEDO\")\n",
        "\n",
        "# definido as categorias ao modelo\n",
        "modelo.add_pipe(categorias)\n",
        "\n",
        "# armazenamos o resultado\n",
        "historico = []"
      ]
    },
    {
      "cell_type": "code",
      "execution_count": 53,
      "metadata": {
        "colab": {
          "base_uri": "https://localhost:8080/"
        },
        "id": "0dyj_QGezGwc",
        "outputId": "34691020-e87e-4da1-9425-2daebcea7698"
      },
      "outputs": [
        {
          "output_type": "stream",
          "name": "stdout",
          "text": [
            "{'textcat': 1.5046022916465063e-07}\n"
          ]
        }
      ],
      "source": [
        "modelo.begin_training()\n",
        "\n",
        "for epoca in range(100):\n",
        "  random.shuffle(base_dados_final)\n",
        "  losses = {}\n",
        "\n",
        "  for batch in spacy.util.minibatch(base_dados_final, 30):\n",
        "    textos = [modelo(texto) for texto, entities in batch]\n",
        "    annotations = [{ 'cats': entities } for texto, entities in batch]\n",
        "    modelo.update(textos, annotations, losses=losses)\n",
        "\n",
        "  if epoca % 100 == 0:\n",
        "    print(losses)\n",
        "    historico.append(losses)"
      ]
    },
    {
      "cell_type": "code",
      "execution_count": 54,
      "metadata": {
        "colab": {
          "base_uri": "https://localhost:8080/"
        },
        "id": "sB-aMHei4QMC",
        "outputId": "5fa67773-3e32-4721-8b40-bd49d845c41e"
      },
      "outputs": [
        {
          "output_type": "execute_result",
          "data": {
            "text/plain": [
              "[{'textcat': 0.0038487723795697093}, {'textcat': 1.5046022916465063e-07}]"
            ]
          },
          "metadata": {},
          "execution_count": 54
        }
      ],
      "source": [
        "historico"
      ]
    },
    {
      "cell_type": "code",
      "execution_count": 55,
      "metadata": {
        "id": "TraV2Yex3ool"
      },
      "outputs": [],
      "source": [
        "historico_loss = []\n",
        "for i in historico:\n",
        "  historico_loss.append(i.get('textcat'))\n"
      ]
    },
    {
      "cell_type": "code",
      "execution_count": 56,
      "metadata": {
        "colab": {
          "base_uri": "https://localhost:8080/"
        },
        "id": "Bn3n_-8f4Jir",
        "outputId": "476683cf-6f6d-4f21-8cac-f4eeaf03e640"
      },
      "outputs": [
        {
          "output_type": "execute_result",
          "data": {
            "text/plain": [
              "array([3.84877238e-03, 1.50460229e-07])"
            ]
          },
          "metadata": {},
          "execution_count": 56
        }
      ],
      "source": [
        "historico_loss = np.array(historico_loss)\n",
        "historico_loss"
      ]
    },
    {
      "cell_type": "code",
      "execution_count": 57,
      "metadata": {
        "colab": {
          "base_uri": "https://localhost:8080/",
          "height": 312
        },
        "id": "5gk6bJg54ZOI",
        "outputId": "887ebbab-9dfc-4d64-ac94-79210d253b43"
      },
      "outputs": [
        {
          "output_type": "execute_result",
          "data": {
            "text/plain": [
              "Text(0.5, 0, 'Erro')"
            ]
          },
          "metadata": {},
          "execution_count": 57
        },
        {
          "output_type": "display_data",
          "data": {
            "image/png": "[encoded data removed]",
            "text/plain": [
              "<Figure size 432x288 with 1 Axes>"
            ]
          },
          "metadata": {
            "needs_background": "light"
          }
        }
      ],
      "source": [
        "import matplotlib.pyplot as plt\n",
        "\n",
        "plt.plot(historico_loss)\n",
        "plt.title(\"Progessão do erro\")\n",
        "plt.xlabel('Épocas')\n",
        "plt.xlabel('Erro')"
      ]
    },
    {
      "cell_type": "code",
      "execution_count": 58,
      "metadata": {
        "id": "EdrTN8GC4_Y1"
      },
      "outputs": [],
      "source": [
        "modelo.to_disk(\"modelo\")"
      ]
    },
    {
      "cell_type": "markdown",
      "metadata": {
        "id": "pyZ1DFzUxK1b"
      },
      "source": [
        "# Etapa 6: Testes com uma frase"
      ]
    },
    {
      "cell_type": "code",
      "execution_count": 59,
      "metadata": {
        "colab": {
          "base_uri": "https://localhost:8080/"
        },
        "id": "ea6uPM6ov0J8",
        "outputId": "6d163e93-d23c-440a-b01b-a91cb7ec3e05"
      },
      "outputs": [
        {
          "output_type": "execute_result",
          "data": {
            "text/plain": [
              "<spacy.lang.pt.Portuguese at 0x7fce37ef3550>"
            ]
          },
          "metadata": {},
          "execution_count": 59
        }
      ],
      "source": [
        "modelo_carregado = spacy.load(\"modelo\")\n",
        "modelo_carregado"
      ]
    },
    {
      "cell_type": "code",
      "execution_count": 60,
      "metadata": {
        "id": "J0CQ4SykxX92"
      },
      "outputs": [],
      "source": [
        "texto_positivo = \"Eu adoro a cor dos seus olhos\""
      ]
    },
    {
      "cell_type": "code",
      "execution_count": 61,
      "metadata": {
        "colab": {
          "base_uri": "https://localhost:8080/",
          "height": 35
        },
        "id": "M_WV4PR16Mxv",
        "outputId": "14690342-8c9f-44a4-ce6f-29b9066c8ae2"
      },
      "outputs": [
        {
          "output_type": "execute_result",
          "data": {
            "application/vnd.google.colaboratory.intrinsic+json": {
              "type": "string"
            },
            "text/plain": [
              "'adorar o cor olho'"
            ]
          },
          "metadata": {},
          "execution_count": 61
        }
      ],
      "source": [
        "texto_positivo = preprocessamento(texto_positivo)\n",
        "texto_positivo"
      ]
    },
    {
      "cell_type": "code",
      "execution_count": 62,
      "metadata": {
        "colab": {
          "base_uri": "https://localhost:8080/"
        },
        "id": "ufuSXjqj6TiC",
        "outputId": "e703977a-cfa0-4d8d-c669-c3f154eeaf86"
      },
      "outputs": [
        {
          "output_type": "execute_result",
          "data": {
            "text/plain": [
              "adorar o cor olho"
            ]
          },
          "metadata": {},
          "execution_count": 62
        }
      ],
      "source": [
        "previsao = modelo_carregado(texto_positivo)\n",
        "previsao"
      ]
    },
    {
      "cell_type": "code",
      "execution_count": 63,
      "metadata": {
        "colab": {
          "base_uri": "https://localhost:8080/"
        },
        "id": "DqjvgWLi7KBa",
        "outputId": "fa93d97f-88ea-494d-d587-90d79174fddb"
      },
      "outputs": [
        {
          "output_type": "execute_result",
          "data": {
            "text/plain": [
              "{'ALEGRIA': 0.9994171857833862, 'MEDO': 0.00027319867513142526}"
            ]
          },
          "metadata": {},
          "execution_count": 63
        }
      ],
      "source": [
        "previsao.cats"
      ]
    },
    {
      "cell_type": "code",
      "execution_count": 64,
      "metadata": {
        "id": "YM-ea_NQ6oXF"
      },
      "outputs": [],
      "source": [
        "texto_negativo = \"o gato tem medo do cachorro\"\n",
        "previsao = modelo_carregado(preprocessamento(texto_negativo))"
      ]
    },
    {
      "cell_type": "code",
      "execution_count": 65,
      "metadata": {
        "colab": {
          "base_uri": "https://localhost:8080/"
        },
        "id": "XVt7PALA7cin",
        "outputId": "c8d058d2-fdc5-4548-e374-6e16fc756dfa"
      },
      "outputs": [
        {
          "output_type": "execute_result",
          "data": {
            "text/plain": [
              "{'ALEGRIA': 0.9994168281555176, 'MEDO': 0.0002731804270297289}"
            ]
          },
          "metadata": {},
          "execution_count": 65
        }
      ],
      "source": [
        "previsao.cats"
      ]
    },
    {
      "cell_type": "markdown",
      "metadata": {
        "id": "GeQi89hn80mD"
      },
      "source": [
        "# Etapa 7: Avaliação do modelo"
      ]
    },
    {
      "cell_type": "markdown",
      "metadata": {
        "id": "6Sj1RUq_87QO"
      },
      "source": [
        "## Avaliação na base de treinamento\n"
      ]
    },
    {
      "cell_type": "code",
      "execution_count": 66,
      "metadata": {
        "id": "JsJuhmWf7eal"
      },
      "outputs": [],
      "source": [
        "previsoes = []\n",
        "for texto in base_dados['texto']:\n",
        "  previsao = modelo_carregado(texto)\n",
        "  previsoes.append(previsao.cats)"
      ]
    },
    {
      "cell_type": "code",
      "execution_count": 67,
      "metadata": {
        "colab": {
          "base_uri": "https://localhost:8080/"
        },
        "id": "OXd89sc29dE7",
        "outputId": "5aacdca5-d2e8-4b38-edf0-70e8b90f3a85"
      },
      "outputs": [
        {
          "output_type": "execute_result",
          "data": {
            "text/plain": [
              "[{'ALEGRIA': 0.9994118213653564, 'MEDO': 0.0002728784747887403},\n",
              " {'ALEGRIA': 0.9994170665740967, 'MEDO': 0.0002731929416768253},\n",
              " {'ALEGRIA': 0.9994271993637085, 'MEDO': 0.0002736877358984202},\n",
              " {'ALEGRIA': 0.9994115829467773, 'MEDO': 0.00027273435262031853},\n",
              " {'ALEGRIA': 0.9994122982025146, 'MEDO': 0.0002728966937866062},\n",
              " {'ALEGRIA': 0.999411940574646, 'MEDO': 0.00027293257880955935},\n",
              " {'ALEGRIA': 0.9994171857833862, 'MEDO': 0.00027319867513142526},\n",
              " {'ALEGRIA': 0.9994170665740967, 'MEDO': 0.00027318979846313596},\n",
              " {'ALEGRIA': 0.9994124174118042, 'MEDO': 0.00027295364998281},\n",
              " {'ALEGRIA': 0.9994120597839355, 'MEDO': 0.00027293755556456745},\n",
              " {'ALEGRIA': 0.9994125366210938, 'MEDO': 0.00027295679319649935},\n",
              " {'ALEGRIA': 0.9994117021560669, 'MEDO': 0.00027274113381281495},\n",
              " {'ALEGRIA': 0.9994117021560669, 'MEDO': 0.00027273697196505964},\n",
              " {'ALEGRIA': 0.9994170665740967, 'MEDO': 0.00027319553191773593},\n",
              " {'ALEGRIA': 0.9994121789932251, 'MEDO': 0.0002728922409005463},\n",
              " {'ALEGRIA': 0.9994120597839355, 'MEDO': 0.0002728852559812367},\n",
              " {'ALEGRIA': 0.9994122982025146, 'MEDO': 0.0002728979743551463},\n",
              " {'ALEGRIA': 0.9994125366210938, 'MEDO': 0.00027290760772302747},\n",
              " {'ALEGRIA': 0.9994173049926758, 'MEDO': 0.0002732030989136547},\n",
              " {'ALEGRIA': 0.9994168281555176, 'MEDO': 0.00027315880288369954},\n",
              " {'ALEGRIA': 0.9994120597839355, 'MEDO': 0.0002728873223531991},\n",
              " {'ALEGRIA': 0.9994168281555176, 'MEDO': 0.00027315542683936656},\n",
              " {'ALEGRIA': 0.9994121789932251, 'MEDO': 0.0002729692787397653},\n",
              " {'ALEGRIA': 0.9994125366210938, 'MEDO': 0.0002729599364101887},\n",
              " {'ALEGRIA': 0.9994169473648071, 'MEDO': 0.00027311063604429364},\n",
              " {'ALEGRIA': 0.9994169473648071, 'MEDO': 0.00027318851789459586},\n",
              " {'ALEGRIA': 0.9994118213653564, 'MEDO': 0.00027287486591376364},\n",
              " {'ALEGRIA': 0.9994118213653564, 'MEDO': 0.00027287405100651085},\n",
              " {'ALEGRIA': 0.9994117021560669, 'MEDO': 0.0002728722174651921},\n",
              " {'ALEGRIA': 0.9994115829467773, 'MEDO': 0.0002727341197896749},\n",
              " {'ALEGRIA': 0.9994171857833862, 'MEDO': 0.00027317419881001115},\n",
              " {'ALEGRIA': 0.9994170665740967, 'MEDO': 0.00027316741761751473},\n",
              " {'ALEGRIA': 0.9994121789932251, 'MEDO': 0.0002729422121774405},\n",
              " {'ALEGRIA': 0.9994168281555176, 'MEDO': 0.00027315542683936656},\n",
              " {'ALEGRIA': 0.9994170665740967, 'MEDO': 0.00027319631772115827},\n",
              " {'ALEGRIA': 0.9994125366210938, 'MEDO': 0.0002730010310187936},\n",
              " {'ALEGRIA': 0.9994221925735474, 'MEDO': 0.0002734511799644679},\n",
              " {'ALEGRIA': 0.9994169473648071, 'MEDO': 0.00027316168416291475},\n",
              " {'ALEGRIA': 0.9994169473648071, 'MEDO': 0.000273159850621596},\n",
              " {'ALEGRIA': 0.9994118213653564, 'MEDO': 0.00027287405100651085},\n",
              " {'ALEGRIA': 0.9994120597839355, 'MEDO': 0.0002728873223531991},\n",
              " {'ALEGRIA': 0.9994121789932251, 'MEDO': 0.0002729437837842852},\n",
              " {'ALEGRIA': 0.999411940574646, 'MEDO': 0.0002728789986576885},\n",
              " {'ALEGRIA': 0.9994115829467773, 'MEDO': 0.0002727341197896749},\n",
              " {'ALEGRIA': 0.9994121789932251, 'MEDO': 0.00027294064057059586},\n",
              " {'ALEGRIA': 0.9994121789932251, 'MEDO': 0.00027294273604638875},\n",
              " {'ALEGRIA': 0.9994173049926758, 'MEDO': 0.0002731822314672172},\n",
              " {'ALEGRIA': 0.9994169473648071, 'MEDO': 0.0002731845888774842},\n",
              " {'ALEGRIA': 0.9994168281555176, 'MEDO': 0.00027315676561556756},\n",
              " {'ALEGRIA': 0.9994121789932251, 'MEDO': 0.0002729443076532334},\n",
              " {'ALEGRIA': 0.9994120597839355, 'MEDO': 0.000272964098257944},\n",
              " {'ALEGRIA': 0.9994120597839355, 'MEDO': 0.00027288604178465903},\n",
              " {'ALEGRIA': 0.9994169473648071, 'MEDO': 0.000273202545940876},\n",
              " {'ALEGRIA': 0.9994134902954102, 'MEDO': 0.0002730281266849488},\n",
              " {'ALEGRIA': 0.9994170665740967, 'MEDO': 0.0002731887507252395},\n",
              " {'ALEGRIA': 0.9994134902954102, 'MEDO': 0.0002730299311224371},\n",
              " {'ALEGRIA': 0.9994121789932251, 'MEDO': 0.000272939883871004},\n",
              " {'ALEGRIA': 0.9994117021560669, 'MEDO': 0.00027287195553071797},\n",
              " {'ALEGRIA': 0.9994121789932251, 'MEDO': 0.0002729432890191674},\n",
              " {'ALEGRIA': 0.9994118213653564, 'MEDO': 0.00027292684535495937},\n",
              " {'ALEGRIA': 0.9994170665740967, 'MEDO': 0.0002731937274802476},\n",
              " {'ALEGRIA': 0.9994174242019653, 'MEDO': 0.00027321011293679476},\n",
              " {'ALEGRIA': 0.9994171857833862, 'MEDO': 0.0002731994609348476},\n",
              " {'ALEGRIA': 0.999413013458252, 'MEDO': 0.0002729841216932982},\n",
              " {'ALEGRIA': 0.9994170665740967, 'MEDO': 0.0002731686981860548},\n",
              " {'ALEGRIA': 0.9994220733642578, 'MEDO': 0.0002734384033828974},\n",
              " {'ALEGRIA': 0.9994170665740967, 'MEDO': 0.0002731905842665583},\n",
              " {'ALEGRIA': 0.9994168281555176, 'MEDO': 0.000273156474577263},\n",
              " {'ALEGRIA': 0.9994121789932251, 'MEDO': 0.0002729422121774405},\n",
              " {'ALEGRIA': 0.9994115829467773, 'MEDO': 0.0002727341197896749},\n",
              " {'ALEGRIA': 0.9994169473648071, 'MEDO': 0.000273162208031863},\n",
              " {'ALEGRIA': 0.9994131326675415, 'MEDO': 0.0002729908737819642},\n",
              " {'ALEGRIA': 0.999413251876831, 'MEDO': 0.00027302184025757015},\n",
              " {'ALEGRIA': 0.9994127750396729, 'MEDO': 0.0002729224506765604},\n",
              " {'ALEGRIA': 0.9994122982025146, 'MEDO': 0.00027294587926007807},\n",
              " {'ALEGRIA': 0.9994174242019653, 'MEDO': 0.00027322210371494293},\n",
              " {'ALEGRIA': 0.999416708946228, 'MEDO': 0.0002731031272560358},\n",
              " {'ALEGRIA': 0.9994120597839355, 'MEDO': 0.000272888079052791},\n",
              " {'ALEGRIA': 0.999411940574646, 'MEDO': 0.00027288132696412504},\n",
              " {'ALEGRIA': 0.9994118213653564, 'MEDO': 0.0002728769031818956},\n",
              " {'ALEGRIA': 0.9994124174118042, 'MEDO': 0.0002729544648900628},\n",
              " {'ALEGRIA': 0.9994128942489624, 'MEDO': 0.00027300286456011236},\n",
              " {'ALEGRIA': 0.9994173049926758, 'MEDO': 0.0002732174179982394},\n",
              " {'ALEGRIA': 0.9994120597839355, 'MEDO': 0.00027289200806990266},\n",
              " {'ALEGRIA': 0.9994170665740967, 'MEDO': 0.0002732036227826029},\n",
              " {'ALEGRIA': 0.9994118213653564, 'MEDO': 0.00027287614648230374},\n",
              " {'ALEGRIA': 0.9994128942489624, 'MEDO': 0.00027300207875669},\n",
              " {'ALEGRIA': 0.9994118213653564, 'MEDO': 0.0002728771942202002},\n",
              " {'ALEGRIA': 0.9994118213653564, 'MEDO': 0.00027288158889859915},\n",
              " {'ALEGRIA': 0.9994115829467773, 'MEDO': 0.00027273542946204543},\n",
              " {'ALEGRIA': 0.9994115829467773, 'MEDO': 0.0002727349055930972},\n",
              " {'ALEGRIA': 0.9994118213653564, 'MEDO': 0.0002729234693106264},\n",
              " {'ALEGRIA': 0.9994169473648071, 'MEDO': 0.00027318665524944663},\n",
              " {'ALEGRIA': 0.9994168281555176, 'MEDO': 0.00027315542683936656},\n",
              " {'ALEGRIA': 0.9994170665740967, 'MEDO': 0.00027316767955198884},\n",
              " {'ALEGRIA': 0.9994117021560669, 'MEDO': 0.00027287067496217787},\n",
              " {'ALEGRIA': 0.9994170665740967, 'MEDO': 0.00027318953652866185},\n",
              " {'ALEGRIA': 0.9994124174118042, 'MEDO': 0.00027295079780742526},\n",
              " {'ALEGRIA': 0.999411940574646, 'MEDO': 0.00027287978446111083},\n",
              " {'ALEGRIA': 0.9994168281555176, 'MEDO': 0.0002731557178776711},\n",
              " {'ALEGRIA': 0.9994118213653564, 'MEDO': 0.0002729237312451005},\n",
              " {'ALEGRIA': 0.999413013458252, 'MEDO': 0.0002730083360802382},\n",
              " {'ALEGRIA': 0.9994115829467773, 'MEDO': 0.00027273435262031853},\n",
              " {'ALEGRIA': 0.9994169473648071, 'MEDO': 0.0002731585700530559},\n",
              " {'ALEGRIA': 0.9994173049926758, 'MEDO': 0.0002732030989136547},\n",
              " {'ALEGRIA': 0.9994168281555176, 'MEDO': 0.00027310362202115357},\n",
              " {'ALEGRIA': 0.999411940574646, 'MEDO': 0.0002729281550273299},\n",
              " {'ALEGRIA': 0.9994124174118042, 'MEDO': 0.0002729763218667358},\n",
              " {'ALEGRIA': 0.9994117021560669, 'MEDO': 0.00027287195553071797},\n",
              " {'ALEGRIA': 0.999411940574646, 'MEDO': 0.00027293103630654514},\n",
              " {'ALEGRIA': 0.9994180202484131, 'MEDO': 0.0002732536231633276},\n",
              " {'ALEGRIA': 0.9994120597839355, 'MEDO': 0.0002729380503296852},\n",
              " {'ALEGRIA': 0.9994118213653564, 'MEDO': 0.00027287821285426617},\n",
              " {'ALEGRIA': 0.9994120597839355, 'MEDO': 0.0002727554237935692},\n",
              " {'ALEGRIA': 0.9994117021560669, 'MEDO': 0.0002727379905991256},\n",
              " {'ALEGRIA': 0.9994117021560669, 'MEDO': 0.00027287277043797076},\n",
              " {'ALEGRIA': 0.9994176626205444, 'MEDO': 0.00027323540416546166},\n",
              " {'ALEGRIA': 0.9994118213653564, 'MEDO': 0.0002728750987444073},\n",
              " {'ALEGRIA': 0.9994121789932251, 'MEDO': 0.0002728925028350204},\n",
              " {'ALEGRIA': 0.9994117021560669, 'MEDO': 0.000272870936896652},\n",
              " {'ALEGRIA': 0.9994174242019653, 'MEDO': 0.00027320883236825466},\n",
              " {'ALEGRIA': 0.9994118213653564, 'MEDO': 0.00027287821285426617},\n",
              " {'ALEGRIA': 0.999411940574646, 'MEDO': 0.00027288368437439203},\n",
              " {'ALEGRIA': 0.9994117021560669, 'MEDO': 0.0002728750987444073},\n",
              " {'ALEGRIA': 0.9994120597839355, 'MEDO': 0.000272964098257944},\n",
              " {'ALEGRIA': 0.9994170665740967, 'MEDO': 0.00027319343644194305},\n",
              " {'ALEGRIA': 0.9994169473648071, 'MEDO': 0.0002731843269430101},\n",
              " {'ALEGRIA': 0.9994118213653564, 'MEDO': 0.00027287405100651085},\n",
              " {'ALEGRIA': 0.9994115829467773, 'MEDO': 0.00027274113381281495},\n",
              " {'ALEGRIA': 0.9994120597839355, 'MEDO': 0.0002728852559812367},\n",
              " {'ALEGRIA': 0.9994117021560669, 'MEDO': 0.00027287116972729564},\n",
              " {'ALEGRIA': 0.9994171857833862, 'MEDO': 0.0002731994609348476},\n",
              " {'ALEGRIA': 0.9994175434112549, 'MEDO': 0.00027321220841258764},\n",
              " {'ALEGRIA': 0.999411940574646, 'MEDO': 0.00027288004639558494},\n",
              " {'ALEGRIA': 0.9994120597839355, 'MEDO': 0.00027288758428767323},\n",
              " {'ALEGRIA': 0.9994121789932251, 'MEDO': 0.0002729643601924181},\n",
              " {'ALEGRIA': 0.9994117021560669, 'MEDO': 0.0002728714607656002},\n",
              " {'ALEGRIA': 0.9994121789932251, 'MEDO': 0.00027294197934679687},\n",
              " {'ALEGRIA': 0.9994120597839355, 'MEDO': 0.0002728873223531991},\n",
              " {'ALEGRIA': 0.9994221925735474, 'MEDO': 0.00027344515547156334},\n",
              " {'ALEGRIA': 0.9994122982025146, 'MEDO': 0.0002728987601585686},\n",
              " {'ALEGRIA': 0.9994118213653564, 'MEDO': 0.00027287352713756263},\n",
              " {'ALEGRIA': 0.9994120597839355, 'MEDO': 0.0002728873223531991},\n",
              " {'ALEGRIA': 0.9994173049926758, 'MEDO': 0.00027320595108903944},\n",
              " {'ALEGRIA': 0.9994170665740967, 'MEDO': 0.0002731890126597136},\n",
              " {'ALEGRIA': 0.9994120597839355, 'MEDO': 0.00027288758428767323},\n",
              " {'ALEGRIA': 0.9994122982025146, 'MEDO': 0.00027289616991765797},\n",
              " {'ALEGRIA': 0.999411940574646, 'MEDO': 0.0002729305124375969},\n",
              " {'ALEGRIA': 0.9994121789932251, 'MEDO': 0.00027296849293634295},\n",
              " {'ALEGRIA': 0.9994121789932251, 'MEDO': 0.00027289046556688845},\n",
              " {'ALEGRIA': 0.9994171857833862, 'MEDO': 0.00027321508969180286},\n",
              " {'ALEGRIA': 0.9994121789932251, 'MEDO': 0.0002729469269979745},\n",
              " {'ALEGRIA': 0.999413251876831, 'MEDO': 0.0002730189880821854},\n",
              " {'ALEGRIA': 0.9994168281555176, 'MEDO': 0.00027315778424963355},\n",
              " {'ALEGRIA': 0.9994176626205444, 'MEDO': 0.0002732343564275652},\n",
              " {'ALEGRIA': 0.9994169473648071, 'MEDO': 0.00027316351770423353},\n",
              " {'ALEGRIA': 0.9994120597839355, 'MEDO': 0.0002728844410739839},\n",
              " {'ALEGRIA': 0.999411940574646, 'MEDO': 0.0002729308034759015},\n",
              " {'ALEGRIA': 0.9994122982025146, 'MEDO': 0.00027297265478409827},\n",
              " {'ALEGRIA': 0.9994173049926758, 'MEDO': 0.0002731788845267147},\n",
              " {'ALEGRIA': 0.9994173049926758, 'MEDO': 0.0002732174179982394},\n",
              " {'ALEGRIA': 0.9994120597839355, 'MEDO': 0.0002729338884819299},\n",
              " {'ALEGRIA': 0.9994124174118042, 'MEDO': 0.00027295551262795925},\n",
              " {'ALEGRIA': 0.9994118213653564, 'MEDO': 0.0002728745748754591},\n",
              " {'ALEGRIA': 0.9994128942489624, 'MEDO': 0.0002729263505898416},\n",
              " {'ALEGRIA': 0.9994118213653564, 'MEDO': 0.0002729281550273299},\n",
              " {'ALEGRIA': 0.9994121789932251, 'MEDO': 0.0002729443076532334},\n",
              " {'ALEGRIA': 0.999411940574646, 'MEDO': 0.00027293156017549336},\n",
              " {'ALEGRIA': 0.9994115829467773, 'MEDO': 0.0002727356622926891},\n",
              " {'ALEGRIA': 0.9994118213653564, 'MEDO': 0.0002728750987444073},\n",
              " {'ALEGRIA': 0.9994126558303833, 'MEDO': 0.000272961740847677},\n",
              " {'ALEGRIA': 0.9994171857833862, 'MEDO': 0.0002731971035245806},\n",
              " {'ALEGRIA': 0.9994169473648071, 'MEDO': 0.00027316322666592896},\n",
              " {'ALEGRIA': 0.9994117021560669, 'MEDO': 0.00027287250850349665},\n",
              " {'ALEGRIA': 0.9994120597839355, 'MEDO': 0.0002728849940467626},\n",
              " {'ALEGRIA': 0.9994118213653564, 'MEDO': 0.00027287486591376364},\n",
              " {'ALEGRIA': 0.9994173049926758, 'MEDO': 0.0002732174179982394},\n",
              " {'ALEGRIA': 0.9994168281555176, 'MEDO': 0.0002731038548517972},\n",
              " {'ALEGRIA': 0.9994170665740967, 'MEDO': 0.0002731957647483796},\n",
              " {'ALEGRIA': 0.9994124174118042, 'MEDO': 0.0002729979169089347},\n",
              " {'ALEGRIA': 0.9994118213653564, 'MEDO': 0.0002729229745455086},\n",
              " {'ALEGRIA': 0.9994118213653564, 'MEDO': 0.00027287768898531795},\n",
              " {'ALEGRIA': 0.9994122982025146, 'MEDO': 0.0002729479456320405},\n",
              " {'ALEGRIA': 0.9994117021560669, 'MEDO': 0.00027274165768176317},\n",
              " {'ALEGRIA': 0.9994121789932251, 'MEDO': 0.00027289355057291687},\n",
              " {'ALEGRIA': 0.9994117021560669, 'MEDO': 0.0002727385435719043},\n",
              " {'ALEGRIA': 0.9994184970855713, 'MEDO': 0.0002732611901592463},\n",
              " {'ALEGRIA': 0.9994117021560669, 'MEDO': 0.00027287067496217787},\n",
              " {'ALEGRIA': 0.999411940574646, 'MEDO': 0.0002729557454586029},\n",
              " {'ALEGRIA': 0.9994117021560669, 'MEDO': 0.0002728722174651921},\n",
              " {'ALEGRIA': 0.9994169473648071, 'MEDO': 0.00027316377963870764},\n",
              " {'ALEGRIA': 0.9994131326675415, 'MEDO': 0.00027302655507810414},\n",
              " {'ALEGRIA': 0.9994121789932251, 'MEDO': 0.0002729815023485571},\n",
              " {'ALEGRIA': 0.9994192123413086, 'MEDO': 0.00027333261095918715},\n",
              " {'ALEGRIA': 0.9994183778762817, 'MEDO': 0.00027327006682753563},\n",
              " {'ALEGRIA': 0.9994115829467773, 'MEDO': 0.0002727341197896749}]"
            ]
          },
          "metadata": {},
          "execution_count": 67
        }
      ],
      "source": [
        "previsoes"
      ]
    },
    {
      "cell_type": "code",
      "execution_count": 68,
      "metadata": {
        "id": "4hrH5RQ49ifl"
      },
      "outputs": [],
      "source": [
        "previsoes_final = []\n",
        "for previsao in previsoes:\n",
        "  if previsao['ALEGRIA'] > previsao['MEDO']:\n",
        "    previsoes_final.append('alegria')\n",
        "  else:\n",
        "    previsoes_final.append('medo')\n",
        "\n",
        "previsoes_final = np.array(previsoes_final)"
      ]
    },
    {
      "cell_type": "code",
      "source": [
        "previsoes_final"
      ],
      "metadata": {
        "colab": {
          "base_uri": "https://localhost:8080/"
        },
        "id": "dB3USROMyJG0",
        "outputId": "02aaf059-726e-4055-c732-b133fa6bd39f"
      },
      "execution_count": 69,
      "outputs": [
        {
          "output_type": "execute_result",
          "data": {
            "text/plain": [
              "array(['alegria', 'alegria', 'alegria', 'alegria', 'alegria', 'alegria',\n",
              "       'alegria', 'alegria', 'alegria', 'alegria', 'alegria', 'alegria',\n",
              "       'alegria', 'alegria', 'alegria', 'alegria', 'alegria', 'alegria',\n",
              "       'alegria', 'alegria', 'alegria', 'alegria', 'alegria', 'alegria',\n",
              "       'alegria', 'alegria', 'alegria', 'alegria', 'alegria', 'alegria',\n",
              "       'alegria', 'alegria', 'alegria', 'alegria', 'alegria', 'alegria',\n",
              "       'alegria', 'alegria', 'alegria', 'alegria', 'alegria', 'alegria',\n",
              "       'alegria', 'alegria', 'alegria', 'alegria', 'alegria', 'alegria',\n",
              "       'alegria', 'alegria', 'alegria', 'alegria', 'alegria', 'alegria',\n",
              "       'alegria', 'alegria', 'alegria', 'alegria', 'alegria', 'alegria',\n",
              "       'alegria', 'alegria', 'alegria', 'alegria', 'alegria', 'alegria',\n",
              "       'alegria', 'alegria', 'alegria', 'alegria', 'alegria', 'alegria',\n",
              "       'alegria', 'alegria', 'alegria', 'alegria', 'alegria', 'alegria',\n",
              "       'alegria', 'alegria', 'alegria', 'alegria', 'alegria', 'alegria',\n",
              "       'alegria', 'alegria', 'alegria', 'alegria', 'alegria', 'alegria',\n",
              "       'alegria', 'alegria', 'alegria', 'alegria', 'alegria', 'alegria',\n",
              "       'alegria', 'alegria', 'alegria', 'alegria', 'alegria', 'alegria',\n",
              "       'alegria', 'alegria', 'alegria', 'alegria', 'alegria', 'alegria',\n",
              "       'alegria', 'alegria', 'alegria', 'alegria', 'alegria', 'alegria',\n",
              "       'alegria', 'alegria', 'alegria', 'alegria', 'alegria', 'alegria',\n",
              "       'alegria', 'alegria', 'alegria', 'alegria', 'alegria', 'alegria',\n",
              "       'alegria', 'alegria', 'alegria', 'alegria', 'alegria', 'alegria',\n",
              "       'alegria', 'alegria', 'alegria', 'alegria', 'alegria', 'alegria',\n",
              "       'alegria', 'alegria', 'alegria', 'alegria', 'alegria', 'alegria',\n",
              "       'alegria', 'alegria', 'alegria', 'alegria', 'alegria', 'alegria',\n",
              "       'alegria', 'alegria', 'alegria', 'alegria', 'alegria', 'alegria',\n",
              "       'alegria', 'alegria', 'alegria', 'alegria', 'alegria', 'alegria',\n",
              "       'alegria', 'alegria', 'alegria', 'alegria', 'alegria', 'alegria',\n",
              "       'alegria', 'alegria', 'alegria', 'alegria', 'alegria', 'alegria',\n",
              "       'alegria', 'alegria', 'alegria', 'alegria', 'alegria', 'alegria',\n",
              "       'alegria', 'alegria', 'alegria', 'alegria', 'alegria', 'alegria',\n",
              "       'alegria', 'alegria', 'alegria', 'alegria', 'alegria', 'alegria',\n",
              "       'alegria', 'alegria', 'alegria', 'alegria'], dtype='<U7')"
            ]
          },
          "metadata": {},
          "execution_count": 69
        }
      ]
    },
    {
      "cell_type": "code",
      "source": [
        "respostas_reais = base_dados['emocao'].values\n",
        "respostas_reais"
      ],
      "metadata": {
        "colab": {
          "base_uri": "https://localhost:8080/"
        },
        "id": "l1BTph6oyMIr",
        "outputId": "dbeb04c9-c87b-4286-d19d-708d48619156"
      },
      "execution_count": 70,
      "outputs": [
        {
          "output_type": "execute_result",
          "data": {
            "text/plain": [
              "array(['alegria', 'alegria', 'alegria', 'alegria', 'alegria', 'alegria',\n",
              "       'alegria', 'alegria', 'alegria', 'alegria', 'alegria', 'alegria',\n",
              "       'alegria', 'alegria', 'alegria', 'alegria', 'alegria', 'alegria',\n",
              "       'alegria', 'alegria', 'alegria', 'alegria', 'alegria', 'alegria',\n",
              "       'alegria', 'alegria', 'alegria', 'alegria', 'alegria', 'alegria',\n",
              "       'alegria', 'alegria', 'alegria', 'alegria', 'alegria', 'alegria',\n",
              "       'alegria', 'alegria', 'alegria', 'alegria', 'alegria', 'alegria',\n",
              "       'alegria', 'alegria', 'alegria', 'alegria', 'alegria', 'alegria',\n",
              "       'alegria', 'alegria', 'alegria', 'alegria', 'alegria', 'alegria',\n",
              "       'alegria', 'alegria', 'alegria', 'alegria', 'alegria', 'alegria',\n",
              "       'alegria', 'alegria', 'alegria', 'alegria', 'alegria', 'alegria',\n",
              "       'alegria', 'alegria', 'alegria', 'alegria', 'alegria', 'alegria',\n",
              "       'alegria', 'alegria', 'alegria', 'alegria', 'alegria', 'alegria',\n",
              "       'alegria', 'alegria', 'alegria', 'alegria', 'alegria', 'alegria',\n",
              "       'alegria', 'alegria', 'alegria', 'alegria', 'alegria', 'alegria',\n",
              "       'alegria', 'alegria', 'alegria', 'alegria', 'alegria', 'alegria',\n",
              "       'alegria', 'alegria', 'alegria', 'alegria', 'alegria', 'alegria',\n",
              "       'alegria', 'alegria', 'alegria', 'alegria', 'alegria', 'alegria',\n",
              "       'alegria', 'alegria', 'alegria', 'alegria', 'medo', 'medo', 'medo',\n",
              "       'medo', 'medo', 'medo', 'medo', 'medo', 'medo', 'medo', 'medo',\n",
              "       'medo', 'medo', 'medo', 'medo', 'medo', 'medo', 'medo', 'medo',\n",
              "       'medo', 'medo', 'medo', 'medo', 'medo', 'medo', 'medo', 'medo',\n",
              "       'medo', 'medo', 'medo', 'medo', 'medo', 'medo', 'medo', 'medo',\n",
              "       'medo', 'medo', 'medo', 'medo', 'medo', 'medo', 'medo', 'medo',\n",
              "       'medo', 'medo', 'medo', 'medo', 'medo', 'medo', 'medo', 'medo',\n",
              "       'medo', 'medo', 'medo', 'medo', 'medo', 'medo', 'medo', 'medo',\n",
              "       'medo', 'medo', 'medo', 'medo', 'medo', 'medo', 'medo', 'medo',\n",
              "       'medo', 'medo', 'medo', 'medo', 'medo', 'medo', 'medo', 'medo',\n",
              "       'medo', 'medo', 'medo', 'medo', 'medo', 'medo', 'medo', 'medo',\n",
              "       'medo'], dtype=object)"
            ]
          },
          "metadata": {},
          "execution_count": 70
        }
      ]
    },
    {
      "cell_type": "code",
      "source": [
        "from sklearn.metrics import confusion_matrix, accuracy_score\n",
        "accuracy_score(respostas_reais, previsoes_final)"
      ],
      "metadata": {
        "colab": {
          "base_uri": "https://localhost:8080/"
        },
        "id": "Vu7pjBOEyspS",
        "outputId": "bbb7e3bc-08d7-4696-f61a-812127c4f47b"
      },
      "execution_count": 71,
      "outputs": [
        {
          "output_type": "execute_result",
          "data": {
            "text/plain": [
              "0.5714285714285714"
            ]
          },
          "metadata": {},
          "execution_count": 71
        }
      ]
    },
    {
      "cell_type": "code",
      "source": [
        "cm = confusion_matrix(respostas_reais, previsoes_final)\n",
        "cm"
      ],
      "metadata": {
        "colab": {
          "base_uri": "https://localhost:8080/"
        },
        "id": "HXXXClx1zO4R",
        "outputId": "c6c72fff-84b5-4595-aa6c-4bc6e2f3d867"
      },
      "execution_count": 74,
      "outputs": [
        {
          "output_type": "execute_result",
          "data": {
            "text/plain": [
              "array([[112,   0],\n",
              "       [ 84,   0]])"
            ]
          },
          "metadata": {},
          "execution_count": 74
        }
      ]
    },
    {
      "cell_type": "markdown",
      "source": [
        "## Avaliação na base de teste"
      ],
      "metadata": {
        "id": "0zkYK3pyzpDq"
      }
    },
    {
      "cell_type": "code",
      "source": [
        "base_dados_teste = pd.read_csv('/content/base_teste.txt', encoding='utf-8')"
      ],
      "metadata": {
        "id": "LzwTfbkBzWvF"
      },
      "execution_count": 78,
      "outputs": []
    },
    {
      "cell_type": "code",
      "source": [
        "base_dados_teste.head()"
      ],
      "metadata": {
        "colab": {
          "base_uri": "https://localhost:8080/",
          "height": 206
        },
        "id": "y-4K_oBfz9Kb",
        "outputId": "da658baa-34c6-4937-aae8-fe21c293810b"
      },
      "execution_count": 79,
      "outputs": [
        {
          "output_type": "execute_result",
          "data": {
            "text/html": [
              "\n",
              "  <div id=\"df-21cf88ce-141c-4ca0-86f0-c15d5517ec38\">\n",
              "    <div class=\"colab-df-container\">\n",
              "      <div>\n",
              "<style scoped>\n",
              "    .dataframe tbody tr th:only-of-type {\n",
              "        vertical-align: middle;\n",
              "    }\n",
              "\n",
              "    .dataframe tbody tr th {\n",
              "        vertical-align: top;\n",
              "    }\n",
              "\n",
              "    .dataframe thead th {\n",
              "        text-align: right;\n",
              "    }\n",
              "</style>\n",
              "<table border=\"1\" class=\"dataframe\">\n",
              "  <thead>\n",
              "    <tr style=\"text-align: right;\">\n",
              "      <th></th>\n",
              "      <th>texto</th>\n",
              "      <th>emocao</th>\n",
              "    </tr>\n",
              "  </thead>\n",
              "  <tbody>\n",
              "    <tr>\n",
              "      <th>0</th>\n",
              "      <td>não precisei pagar o ingresso</td>\n",
              "      <td>alegria</td>\n",
              "    </tr>\n",
              "    <tr>\n",
              "      <th>1</th>\n",
              "      <td>se eu ajeitar tudo fica bem</td>\n",
              "      <td>alegria</td>\n",
              "    </tr>\n",
              "    <tr>\n",
              "      <th>2</th>\n",
              "      <td>minha fortuna ultrapassará a sua</td>\n",
              "      <td>alegria</td>\n",
              "    </tr>\n",
              "    <tr>\n",
              "      <th>3</th>\n",
              "      <td>sou muito afortunado</td>\n",
              "      <td>alegria</td>\n",
              "    </tr>\n",
              "    <tr>\n",
              "      <th>4</th>\n",
              "      <td>é benéfico para todos esta nova medida</td>\n",
              "      <td>alegria</td>\n",
              "    </tr>\n",
              "  </tbody>\n",
              "</table>\n",
              "</div>\n",
              "      <button class=\"colab-df-convert\" onclick=\"convertToInteractive('df-21cf88ce-141c-4ca0-86f0-c15d5517ec38')\"\n",
              "              title=\"Convert this dataframe to an interactive table.\"\n",
              "              style=\"display:none;\">\n",
              "        \n",
              "  <svg xmlns=\"http://www.w3.org/2000/svg\" height=\"24px\"viewBox=\"0 0 24 24\"\n",
              "       width=\"24px\">\n",
              "    <path d=\"M0 0h24v24H0V0z\" fill=\"none\"/>\n",
              "    <path d=\"M18.56 5.44l.94 2.06.94-2.06 2.06-.94-2.06-.94-.94-2.06-.94 2.06-2.06.94zm-11 1L8.5 8.5l.94-2.06 2.06-.94-2.06-.94L8.5 2.5l-.94 2.06-2.06.94zm10 10l.94 2.06.94-2.06 2.06-.94-2.06-.94-.94-2.06-.94 2.06-2.06.94z\"/><path d=\"M17.41 7.96l-1.37-1.37c-.4-.4-.92-.59-1.43-.59-.52 0-1.04.2-1.43.59L10.3 9.45l-7.72 7.72c-.78.78-.78 2.05 0 2.83L4 21.41c.39.39.9.59 1.41.59.51 0 1.02-.2 1.41-.59l7.78-7.78 2.81-2.81c.8-.78.8-2.07 0-2.86zM5.41 20L4 18.59l7.72-7.72 1.47 1.35L5.41 20z\"/>\n",
              "  </svg>\n",
              "      </button>\n",
              "      \n",
              "  <style>\n",
              "    .colab-df-container {\n",
              "      display:flex;\n",
              "      flex-wrap:wrap;\n",
              "      gap: 12px;\n",
              "    }\n",
              "\n",
              "    .colab-df-convert {\n",
              "      background-color: #E8F0FE;\n",
              "      border: none;\n",
              "      border-radius: 50%;\n",
              "      cursor: pointer;\n",
              "      display: none;\n",
              "      fill: #1967D2;\n",
              "      height: 32px;\n",
              "      padding: 0 0 0 0;\n",
              "      width: 32px;\n",
              "    }\n",
              "\n",
              "    .colab-df-convert:hover {\n",
              "      background-color: #E2EBFA;\n",
              "      box-shadow: 0px 1px 2px rgba(60, 64, 67, 0.3), 0px 1px 3px 1px rgba(60, 64, 67, 0.15);\n",
              "      fill: #174EA6;\n",
              "    }\n",
              "\n",
              "    [theme=dark] .colab-df-convert {\n",
              "      background-color: #3B4455;\n",
              "      fill: #D2E3FC;\n",
              "    }\n",
              "\n",
              "    [theme=dark] .colab-df-convert:hover {\n",
              "      background-color: #434B5C;\n",
              "      box-shadow: 0px 1px 3px 1px rgba(0, 0, 0, 0.15);\n",
              "      filter: drop-shadow(0px 1px 2px rgba(0, 0, 0, 0.3));\n",
              "      fill: #FFFFFF;\n",
              "    }\n",
              "  </style>\n",
              "\n",
              "      <script>\n",
              "        const buttonEl =\n",
              "          document.querySelector('#df-21cf88ce-141c-4ca0-86f0-c15d5517ec38 button.colab-df-convert');\n",
              "        buttonEl.style.display =\n",
              "          google.colab.kernel.accessAllowed ? 'block' : 'none';\n",
              "\n",
              "        async function convertToInteractive(key) {\n",
              "          const element = document.querySelector('#df-21cf88ce-141c-4ca0-86f0-c15d5517ec38');\n",
              "          const dataTable =\n",
              "            await google.colab.kernel.invokeFunction('convertToInteractive',\n",
              "                                                     [key], {});\n",
              "          if (!dataTable) return;\n",
              "\n",
              "          const docLinkHtml = 'Like what you see? Visit the ' +\n",
              "            '<a target=\"_blank\" href=https://colab.research.google.com/notebooks/data_table.ipynb>data table notebook</a>'\n",
              "            + ' to learn more about interactive tables.';\n",
              "          element.innerHTML = '';\n",
              "          dataTable['output_type'] = 'display_data';\n",
              "          await google.colab.output.renderOutput(dataTable, element);\n",
              "          const docLink = document.createElement('div');\n",
              "          docLink.innerHTML = docLinkHtml;\n",
              "          element.appendChild(docLink);\n",
              "        }\n",
              "      </script>\n",
              "    </div>\n",
              "  </div>\n",
              "  "
            ],
            "text/plain": [
              "                                    texto   emocao\n",
              "0           não precisei pagar o ingresso  alegria\n",
              "1             se eu ajeitar tudo fica bem  alegria\n",
              "2        minha fortuna ultrapassará a sua  alegria\n",
              "3                    sou muito afortunado  alegria\n",
              "4  é benéfico para todos esta nova medida  alegria"
            ]
          },
          "metadata": {},
          "execution_count": 79
        }
      ]
    },
    {
      "cell_type": "code",
      "source": [
        "base_dados_teste['texto'] = base_dados_teste['texto'].apply(preprocessamento)"
      ],
      "metadata": {
        "id": "tqMnedfw0B6Q"
      },
      "execution_count": 80,
      "outputs": []
    },
    {
      "cell_type": "code",
      "source": [
        "base_dados_teste.head()"
      ],
      "metadata": {
        "colab": {
          "base_uri": "https://localhost:8080/",
          "height": 206
        },
        "id": "Gwb6Ykos0Spr",
        "outputId": "670c50bf-3715-4b59-943f-0b9aa6fcf391"
      },
      "execution_count": 81,
      "outputs": [
        {
          "output_type": "execute_result",
          "data": {
            "text/html": [
              "\n",
              "  <div id=\"df-dd0c3458-df3d-409e-ba2e-edc60c7de814\">\n",
              "    <div class=\"colab-df-container\">\n",
              "      <div>\n",
              "<style scoped>\n",
              "    .dataframe tbody tr th:only-of-type {\n",
              "        vertical-align: middle;\n",
              "    }\n",
              "\n",
              "    .dataframe tbody tr th {\n",
              "        vertical-align: top;\n",
              "    }\n",
              "\n",
              "    .dataframe thead th {\n",
              "        text-align: right;\n",
              "    }\n",
              "</style>\n",
              "<table border=\"1\" class=\"dataframe\">\n",
              "  <thead>\n",
              "    <tr style=\"text-align: right;\">\n",
              "      <th></th>\n",
              "      <th>texto</th>\n",
              "      <th>emocao</th>\n",
              "    </tr>\n",
              "  </thead>\n",
              "  <tbody>\n",
              "    <tr>\n",
              "      <th>0</th>\n",
              "      <td>precisar pagar o ingressar</td>\n",
              "      <td>alegria</td>\n",
              "    </tr>\n",
              "    <tr>\n",
              "      <th>1</th>\n",
              "      <td>ajeitar ficar</td>\n",
              "      <td>alegria</td>\n",
              "    </tr>\n",
              "    <tr>\n",
              "      <th>2</th>\n",
              "      <td>fortuna ultrapassar o suar</td>\n",
              "      <td>alegria</td>\n",
              "    </tr>\n",
              "    <tr>\n",
              "      <th>3</th>\n",
              "      <td>afortunar</td>\n",
              "      <td>alegria</td>\n",
              "    </tr>\n",
              "    <tr>\n",
              "      <th>4</th>\n",
              "      <td>benéfico parir medir</td>\n",
              "      <td>alegria</td>\n",
              "    </tr>\n",
              "  </tbody>\n",
              "</table>\n",
              "</div>\n",
              "      <button class=\"colab-df-convert\" onclick=\"convertToInteractive('df-dd0c3458-df3d-409e-ba2e-edc60c7de814')\"\n",
              "              title=\"Convert this dataframe to an interactive table.\"\n",
              "              style=\"display:none;\">\n",
              "        \n",
              "  <svg xmlns=\"http://www.w3.org/2000/svg\" height=\"24px\"viewBox=\"0 0 24 24\"\n",
              "       width=\"24px\">\n",
              "    <path d=\"M0 0h24v24H0V0z\" fill=\"none\"/>\n",
              "    <path d=\"M18.56 5.44l.94 2.06.94-2.06 2.06-.94-2.06-.94-.94-2.06-.94 2.06-2.06.94zm-11 1L8.5 8.5l.94-2.06 2.06-.94-2.06-.94L8.5 2.5l-.94 2.06-2.06.94zm10 10l.94 2.06.94-2.06 2.06-.94-2.06-.94-.94-2.06-.94 2.06-2.06.94z\"/><path d=\"M17.41 7.96l-1.37-1.37c-.4-.4-.92-.59-1.43-.59-.52 0-1.04.2-1.43.59L10.3 9.45l-7.72 7.72c-.78.78-.78 2.05 0 2.83L4 21.41c.39.39.9.59 1.41.59.51 0 1.02-.2 1.41-.59l7.78-7.78 2.81-2.81c.8-.78.8-2.07 0-2.86zM5.41 20L4 18.59l7.72-7.72 1.47 1.35L5.41 20z\"/>\n",
              "  </svg>\n",
              "      </button>\n",
              "      \n",
              "  <style>\n",
              "    .colab-df-container {\n",
              "      display:flex;\n",
              "      flex-wrap:wrap;\n",
              "      gap: 12px;\n",
              "    }\n",
              "\n",
              "    .colab-df-convert {\n",
              "      background-color: #E8F0FE;\n",
              "      border: none;\n",
              "      border-radius: 50%;\n",
              "      cursor: pointer;\n",
              "      display: none;\n",
              "      fill: #1967D2;\n",
              "      height: 32px;\n",
              "      padding: 0 0 0 0;\n",
              "      width: 32px;\n",
              "    }\n",
              "\n",
              "    .colab-df-convert:hover {\n",
              "      background-color: #E2EBFA;\n",
              "      box-shadow: 0px 1px 2px rgba(60, 64, 67, 0.3), 0px 1px 3px 1px rgba(60, 64, 67, 0.15);\n",
              "      fill: #174EA6;\n",
              "    }\n",
              "\n",
              "    [theme=dark] .colab-df-convert {\n",
              "      background-color: #3B4455;\n",
              "      fill: #D2E3FC;\n",
              "    }\n",
              "\n",
              "    [theme=dark] .colab-df-convert:hover {\n",
              "      background-color: #434B5C;\n",
              "      box-shadow: 0px 1px 3px 1px rgba(0, 0, 0, 0.15);\n",
              "      filter: drop-shadow(0px 1px 2px rgba(0, 0, 0, 0.3));\n",
              "      fill: #FFFFFF;\n",
              "    }\n",
              "  </style>\n",
              "\n",
              "      <script>\n",
              "        const buttonEl =\n",
              "          document.querySelector('#df-dd0c3458-df3d-409e-ba2e-edc60c7de814 button.colab-df-convert');\n",
              "        buttonEl.style.display =\n",
              "          google.colab.kernel.accessAllowed ? 'block' : 'none';\n",
              "\n",
              "        async function convertToInteractive(key) {\n",
              "          const element = document.querySelector('#df-dd0c3458-df3d-409e-ba2e-edc60c7de814');\n",
              "          const dataTable =\n",
              "            await google.colab.kernel.invokeFunction('convertToInteractive',\n",
              "                                                     [key], {});\n",
              "          if (!dataTable) return;\n",
              "\n",
              "          const docLinkHtml = 'Like what you see? Visit the ' +\n",
              "            '<a target=\"_blank\" href=https://colab.research.google.com/notebooks/data_table.ipynb>data table notebook</a>'\n",
              "            + ' to learn more about interactive tables.';\n",
              "          element.innerHTML = '';\n",
              "          dataTable['output_type'] = 'display_data';\n",
              "          await google.colab.output.renderOutput(dataTable, element);\n",
              "          const docLink = document.createElement('div');\n",
              "          docLink.innerHTML = docLinkHtml;\n",
              "          element.appendChild(docLink);\n",
              "        }\n",
              "      </script>\n",
              "    </div>\n",
              "  </div>\n",
              "  "
            ],
            "text/plain": [
              "                        texto   emocao\n",
              "0  precisar pagar o ingressar  alegria\n",
              "1               ajeitar ficar  alegria\n",
              "2  fortuna ultrapassar o suar  alegria\n",
              "3                   afortunar  alegria\n",
              "4        benéfico parir medir  alegria"
            ]
          },
          "metadata": {},
          "execution_count": 81
        }
      ]
    },
    {
      "cell_type": "code",
      "source": [
        "previsoes = []\n",
        "for texto in base_dados_teste['texto']:\n",
        "  previsao = modelo_carregado(texto)\n",
        "  previsoes.append(previsao.cats)"
      ],
      "metadata": {
        "id": "vo2OX8ZZ0ckt"
      },
      "execution_count": 82,
      "outputs": []
    },
    {
      "cell_type": "code",
      "source": [
        "previsoes_final = []\n",
        "for previsao in previsoes:\n",
        "  if previsao['ALEGRIA'] > previsao['MEDO']:\n",
        "    previsoes_final.append('alegria')\n",
        "  else:\n",
        "    previsoes_final.append('medo')\n",
        "\n",
        "previsoes_final = np.array(previsoes_final)"
      ],
      "metadata": {
        "id": "b4ws90xr0r9X"
      },
      "execution_count": 83,
      "outputs": []
    },
    {
      "cell_type": "code",
      "source": [
        "respostas_reais = base_dados_teste['emocao'].values"
      ],
      "metadata": {
        "id": "1_QoZsmQ0ypm"
      },
      "execution_count": 84,
      "outputs": []
    },
    {
      "cell_type": "code",
      "source": [
        "from sklearn.metrics import confusion_matrix, accuracy_score\n",
        "accuracy_score(respostas_reais, previsoes_final)"
      ],
      "metadata": {
        "colab": {
          "base_uri": "https://localhost:8080/"
        },
        "id": "l-4mHPNQ05ob",
        "outputId": "b8296cd8-f65f-43be-9217-61f82da0d28e"
      },
      "execution_count": 85,
      "outputs": [
        {
          "output_type": "execute_result",
          "data": {
            "text/plain": [
              "0.5714285714285714"
            ]
          },
          "metadata": {},
          "execution_count": 85
        }
      ]
    },
    {
      "cell_type": "code",
      "source": [
        "cm = confusion_matrix(respostas_reais, previsoes_final)\n",
        "cm"
      ],
      "metadata": {
        "colab": {
          "base_uri": "https://localhost:8080/"
        },
        "id": "eBar217907tm",
        "outputId": "12aa529e-b611-4ee9-9e10-01a58b5666a2"
      },
      "execution_count": 86,
      "outputs": [
        {
          "output_type": "execute_result",
          "data": {
            "text/plain": [
              "array([[48,  0],\n",
              "       [36,  0]])"
            ]
          },
          "metadata": {},
          "execution_count": 86
        }
      ]
    }
  ],
  "metadata": {
    "colab": {
      "collapsed_sections": [],
      "name": "Twitter Text Classification with spaCy.ipynb",
      "provenance": [],
      "authorship_tag": "ABX9TyOcs4oTbIDyeien1RdP1s7J",
      "include_colab_link": true
    },
    "kernelspec": {
      "display_name": "Python 3",
      "name": "python3"
    },
    "language_info": {
      "name": "python"
    }
  },
  "nbformat": 4,
  "nbformat_minor": 0
}